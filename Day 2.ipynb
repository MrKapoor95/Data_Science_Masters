{
 "cells": [
  {
   "cell_type": "code",
   "execution_count": 1,
   "id": "f71b8d81-8d75-4e6c-8ddf-987e5d8aed51",
   "metadata": {},
   "outputs": [
    {
     "data": {
      "text/plain": [
       "0"
      ]
     },
     "execution_count": 1,
     "metadata": {},
     "output_type": "execute_result"
    }
   ],
   "source": []
  },
  {
   "cell_type": "markdown",
   "id": "f37e9324-c48a-4d93-a63d-ba50f45a802f",
   "metadata": {},
   "source": [
    "### Print Stetement"
   ]
  },
  {
   "cell_type": "code",
   "execution_count": 2,
   "id": "08aa32be-3f30-4a84-9c17-7e12bd324001",
   "metadata": {},
   "outputs": [
    {
     "name": "stdout",
     "output_type": "stream",
     "text": [
      "\n"
     ]
    }
   ],
   "source": [
    "print()"
   ]
  },
  {
   "cell_type": "code",
   "execution_count": 5,
   "id": "a3f8b6cc-9613-4153-ba35-2b32a07a9548",
   "metadata": {},
   "outputs": [
    {
     "name": "stdout",
     "output_type": "stream",
     "text": [
      "My age is: 28\n"
     ]
    }
   ],
   "source": [
    "age = 28\n",
    "print(\"My age is:\", age)"
   ]
  },
  {
   "cell_type": "code",
   "execution_count": 7,
   "id": "86206281-e412-494e-afcb-cfec6a90c311",
   "metadata": {},
   "outputs": [
    {
     "name": "stdout",
     "output_type": "stream",
     "text": [
      "My age is : {age}\n"
     ]
    }
   ],
   "source": [
    "print(\"My age is : {age}\")"
   ]
  },
  {
   "cell_type": "markdown",
   "id": "fa68e66c-2df8-49f4-a845-0127a81d9887",
   "metadata": {},
   "source": [
    "We can use f-string to call value of variable in string itself."
   ]
  },
  {
   "cell_type": "code",
   "execution_count": 9,
   "id": "8c0614a5-0d16-4aaa-9b24-f3fed72ebd93",
   "metadata": {},
   "outputs": [
    {
     "name": "stdout",
     "output_type": "stream",
     "text": [
      "My age is: 28\n"
     ]
    }
   ],
   "source": [
    "print(f\"My age is: {age}\")"
   ]
  },
  {
   "cell_type": "code",
   "execution_count": 12,
   "id": "de0d819e-8ddb-46dc-bc58-54b435c9c244",
   "metadata": {},
   "outputs": [
    {
     "name": "stdout",
     "output_type": "stream",
     "text": [
      "My name is Lucky and age is 28.\n"
     ]
    }
   ],
   "source": [
    "## Format()\n",
    "name  = \"Lucky\"\n",
    "age = 28\n",
    "print(\"My name is {} and age is {}.\".format(name,age))"
   ]
  },
  {
   "cell_type": "code",
   "execution_count": 14,
   "id": "6522ae1d-178f-41a3-b077-c4c7d1258b7b",
   "metadata": {},
   "outputs": [
    {
     "name": "stdout",
     "output_type": "stream",
     "text": [
      "My name is Lucky  and age is 28.\n"
     ]
    }
   ],
   "source": [
    "# Placeholder\n",
    "print(\"My name is {firstname}  and age is {firstage}.\".format(firstage = age, firstname = name))"
   ]
  },
  {
   "cell_type": "code",
   "execution_count": 16,
   "id": "e76e89a9-261d-4200-9304-5ade33c496c2",
   "metadata": {},
   "outputs": [
    {
     "name": "stdout",
     "output_type": "stream",
     "text": [
      "My age is 28 and I have completed: My degree in M.Tech (Civil Engineering) with the name of Lucky Kapoor.\n"
     ]
    }
   ],
   "source": [
    "age = 28\n",
    "name = \"Lucky Kapoor\"\n",
    "degree = \"M.Tech (Civil Engineering)\"\n",
    "print(f\"My age is {age} and I have completed: My degree in {degree} with the name of {name}.\")"
   ]
  },
  {
   "cell_type": "markdown",
   "id": "86a4eb53-7c8a-47b2-94a1-2f949fa0c271",
   "metadata": {},
   "source": [
    "## Control Flow"
   ]
  },
  {
   "cell_type": "markdown",
   "id": "f5d2aa68-81b3-4c71-b672-6dd723877e72",
   "metadata": {},
   "source": [
    "#### Decision Making Statement"
   ]
  },
  {
   "cell_type": "markdown",
   "id": "54618a17-127d-4f6c-b4fa-043d7a1f42b2",
   "metadata": {},
   "source": [
    "##### 1. If"
   ]
  },
  {
   "cell_type": "code",
   "execution_count": 19,
   "id": "6c9e64ae-cc12-4e2c-b18b-398534175c89",
   "metadata": {},
   "outputs": [
    {
     "name": "stdout",
     "output_type": "stream",
     "text": [
      "Eligible to Vote.\n"
     ]
    }
   ],
   "source": [
    "age = 18\n",
    "if age >= 18:\n",
    "    print(\"Eligible to Vote.\")"
   ]
  },
  {
   "cell_type": "code",
   "execution_count": 22,
   "id": "bd19db32-623e-4983-b1b8-372689293554",
   "metadata": {},
   "outputs": [],
   "source": [
    "age = 18\n",
    "if age < 18:\n",
    "    print(\"Not Eligible to Vote.\")"
   ]
  },
  {
   "cell_type": "code",
   "execution_count": 24,
   "id": "2563fa4d-da89-48ae-ba08-488ab73fd93d",
   "metadata": {},
   "outputs": [
    {
     "name": "stdin",
     "output_type": "stream",
     "text": [
      "Enter your name: \n",
      " lucky\n",
      "Enter Your age : \n",
      " 28\n"
     ]
    },
    {
     "data": {
      "text/plain": [
       "'lucky'"
      ]
     },
     "execution_count": 24,
     "metadata": {},
     "output_type": "execute_result"
    }
   ],
   "source": [
    "name = input(\"Enter your name: \\n\")\n",
    "age = int(input(\"Enter Your age : \\n\"))\n",
    "print(age)\n",
    "print(name)\n",
    "\n",
    "\n"
   ]
  },
  {
   "cell_type": "code",
   "execution_count": 26,
   "id": "f64e5112-75b2-4034-aaab-cfcfedad63f0",
   "metadata": {},
   "outputs": [
    {
     "name": "stdin",
     "output_type": "stream",
     "text": [
      "Enter Your age :  28\n"
     ]
    },
    {
     "name": "stdout",
     "output_type": "stream",
     "text": [
      "You are a 'Young' Blood.\n"
     ]
    }
   ],
   "source": [
    "# Take age as input\n",
    "age = int(input(\"Enter Your age : \"))\n",
    "if age >= 18 and age <= 45:\n",
    "    print(\"You are a 'Young' Blood.\")"
   ]
  },
  {
   "cell_type": "markdown",
   "id": "35f4ae5e-dd9a-4a63-abef-cc1bc4addeb8",
   "metadata": {},
   "source": [
    "#### 2. If Else Statement"
   ]
  },
  {
   "cell_type": "code",
   "execution_count": 30,
   "id": "43456bac-00fd-42ec-86c8-bbd03fd0b85b",
   "metadata": {},
   "outputs": [
    {
     "name": "stdin",
     "output_type": "stream",
     "text": [
      "Enter total spend:  2000\n"
     ]
    },
    {
     "name": "stdout",
     "output_type": "stream",
     "text": [
      "Pleas Pay 1600.0\n"
     ]
    }
   ],
   "source": [
    "spendmoney = int(input(\"Enter total spend: \"))\n",
    "if spendmoney <= 1000:\n",
    "    discount = 0.3*spendmoney\n",
    "    finalamount = spendmoney - discount\n",
    "    print(f\"Pleas Pay {finalamount}\")\n",
    "elif spendmoney > 1000:\n",
    "    discount = 0.2*spendmoney\n",
    "    finalamount = spendmoney - discount\n",
    "    print(f\"Pleas Pay {finalamount}\")"
   ]
  },
  {
   "cell_type": "code",
   "execution_count": 33,
   "id": "a318edf6-cb63-404f-a3e8-3f0b0aff3f78",
   "metadata": {},
   "outputs": [
    {
     "name": "stdin",
     "output_type": "stream",
     "text": [
      "Enter total spend:  200\n"
     ]
    },
    {
     "name": "stdout",
     "output_type": "stream",
     "text": [
      "Please Pay 140.0\n"
     ]
    }
   ],
   "source": [
    "spendmoney = int(input(\"Enter total spend: \"))\n",
    "if spendmoney <= 1000:\n",
    "    discount = 0.3*spendmoney\n",
    "    finalamount = spendmoney - discount\n",
    "    print(\"Please Pay {firstvariable}\".format(firstvariable = finalamount))\n",
    "elif spendmoney > 1000:\n",
    "    discount = 0.2*spendmoney\n",
    "    finalamount = spendmoney - discount\n",
    "    print(f\"Please Pay {finalamount}\")"
   ]
  },
  {
   "cell_type": "markdown",
   "id": "30f59db9-3418-4674-8c8e-56b6fbeafcb0",
   "metadata": {},
   "source": [
    "#### Single statement suit"
   ]
  },
  {
   "cell_type": "code",
   "execution_count": 34,
   "id": "f21d7f7b-8632-42d8-9159-04ac240dedd4",
   "metadata": {},
   "outputs": [
    {
     "name": "stdin",
     "output_type": "stream",
     "text": [
      "Enter a number 200\n"
     ]
    },
    {
     "name": "stdout",
     "output_type": "stream",
     "text": [
      "Value is less than the minimum criteria\n"
     ]
    }
   ],
   "source": [
    "val = int(input(\"Enter a number\"))\n",
    "if (val <= 999): print(\"Value is less than the minimum criteria\")"
   ]
  },
  {
   "cell_type": "markdown",
   "id": "397df52c-5448-4ed0-9da5-bcf21b796d47",
   "metadata": {},
   "source": [
    "### While Statement"
   ]
  },
  {
   "cell_type": "code",
   "execution_count": 43,
   "id": "30f1e43e-5048-423a-9884-48ec478e134f",
   "metadata": {},
   "outputs": [
    {
     "name": "stdout",
     "output_type": "stream",
     "text": [
      "1000\n",
      "900\n",
      "800\n",
      "700\n",
      "600\n",
      "500\n",
      "400\n",
      "300\n",
      "200\n",
      "100\n",
      "No Balance\n"
     ]
    }
   ],
   "source": [
    "BalanceATM = 1000\n",
    "while BalanceATM != 0:\n",
    "    print(BalanceATM)\n",
    "    BalanceATM -= 100\n",
    "else:\n",
    "    print(\"No Balance\")\n",
    "          "
   ]
  },
  {
   "cell_type": "markdown",
   "id": "5c08dcad-c2af-4254-b1bb-21ebe051d5e5",
   "metadata": {},
   "source": [
    "#### For Loop"
   ]
  },
  {
   "cell_type": "code",
   "execution_count": 44,
   "id": "ab784fe7-952b-4641-b203-f14e18ae36e6",
   "metadata": {},
   "outputs": [],
   "source": [
    "# create a list\n",
    "fruits = [\"Apple\", \"Grapes\", \"Banana\"]"
   ]
  },
  {
   "cell_type": "code",
   "execution_count": 45,
   "id": "dfd1a959-152c-43a2-87c0-90a43e3890b8",
   "metadata": {},
   "outputs": [
    {
     "name": "stdout",
     "output_type": "stream",
     "text": [
      "Apple\n",
      "Grapes\n",
      "Banana\n"
     ]
    }
   ],
   "source": [
    "for items in fruits:\n",
    "    print(items)"
   ]
  },
  {
   "cell_type": "code",
   "execution_count": 48,
   "id": "1f900294-e1ef-428c-a1e6-68cd744d50a7",
   "metadata": {},
   "outputs": [
    {
     "name": "stdout",
     "output_type": "stream",
     "text": [
      "Apple Grapes Banana "
     ]
    }
   ],
   "source": [
    "for items in fruits:\n",
    "    print(items, end = \" \") # To print in single line."
   ]
  },
  {
   "cell_type": "code",
   "execution_count": 49,
   "id": "eb6c90a9-00f7-4e85-9a53-9a31bf37471d",
   "metadata": {},
   "outputs": [
    {
     "name": "stdout",
     "output_type": "stream",
     "text": [
      "m\n",
      "a\n",
      "n\n",
      "g\n",
      "o\n"
     ]
    }
   ],
   "source": [
    "fruit = \"mango\"\n",
    "for i in fruit:\n",
    "    print(i)"
   ]
  },
  {
   "cell_type": "markdown",
   "id": "0dfee208-4f60-45c0-8a1c-fc2d14ff6b03",
   "metadata": {},
   "source": [
    "string is also a list with 0 to n as index number."
   ]
  },
  {
   "cell_type": "markdown",
   "id": "85b35f47-e21c-4700-9c1d-e51680543882",
   "metadata": {},
   "source": [
    "#### Nested Loops"
   ]
  },
  {
   "cell_type": "code",
   "execution_count": 51,
   "id": "3c01f553-4d73-4212-9f0b-2c94c8bb5839",
   "metadata": {},
   "outputs": [
    {
     "name": "stdout",
     "output_type": "stream",
     "text": [
      "Apple\n",
      "I like it\n",
      "Grapes\n",
      "Banana\n"
     ]
    }
   ],
   "source": [
    "\n",
    "for i in fruits:\n",
    "    if i == \"Grapes\":\n",
    "        print(\"I like it\") \n",
    "    print(i)"
   ]
  },
  {
   "cell_type": "code",
   "execution_count": 52,
   "id": "f2afe09a-bcb9-49aa-a531-5f2d4546fa01",
   "metadata": {},
   "outputs": [
    {
     "name": "stdout",
     "output_type": "stream",
     "text": [
      "Apple\n",
      "I like it\n"
     ]
    }
   ],
   "source": [
    "\n",
    "for i in fruits:\n",
    "    if i == \"Grapes\":\n",
    "        print(\"I like it\") \n",
    "        break\n",
    "    print(i)"
   ]
  },
  {
   "cell_type": "code",
   "execution_count": 53,
   "id": "3820c4cb-1d76-46dc-b7a8-318dbfb74ac8",
   "metadata": {},
   "outputs": [
    {
     "name": "stdout",
     "output_type": "stream",
     "text": [
      "Apple\n",
      "I like it\n",
      "Grapes\n",
      "Banana\n"
     ]
    }
   ],
   "source": [
    "\n",
    "for i in fruits:\n",
    "    if i == \"Grapes\":\n",
    "        print(\"I like it\") \n",
    "        pass\n",
    "    print(i)"
   ]
  },
  {
   "cell_type": "code",
   "execution_count": 55,
   "id": "fa5a7fbb-744e-47ca-a170-013da69678be",
   "metadata": {},
   "outputs": [
    {
     "name": "stdout",
     "output_type": "stream",
     "text": [
      "Apple\n",
      "I like it\n",
      "Banana\n"
     ]
    }
   ],
   "source": [
    "for i in fruits:\n",
    "    if i == \"Grapes\":\n",
    "        print(\"I like it\") \n",
    "        continue\n",
    "    print(i)"
   ]
  },
  {
   "cell_type": "markdown",
   "id": "c725323a-2914-48f0-9413-a593855bf2e5",
   "metadata": {},
   "source": [
    "#### Nested Loop"
   ]
  },
  {
   "cell_type": "code",
   "execution_count": 5,
   "id": "5eab9eb9-3af8-44ed-8310-f2dad61c7cc1",
   "metadata": {},
   "outputs": [
    {
     "name": "stdout",
     "output_type": "stream",
     "text": [
      "*\n",
      "**\n",
      "***\n",
      "****\n",
      "*****\n",
      "******\n",
      "*******\n"
     ]
    }
   ],
   "source": [
    "n = 7\n",
    "for i in range(0,n):\n",
    "    for j in range(i+1):\n",
    "        print(\"*\", end=\"\")\n",
    "    print(\"\\r\")"
   ]
  },
  {
   "cell_type": "code",
   "execution_count": 27,
   "id": "e0b0f44b-e6f0-4115-9e86-9575d61174fe",
   "metadata": {},
   "outputs": [
    {
     "name": "stdout",
     "output_type": "stream",
     "text": [
      "   *\n",
      "  ***\n",
      " *****\n",
      "*******\n"
     ]
    }
   ],
   "source": [
    "# Assignment to print equilateral triangle\n",
    "\n",
    "n = 7\n",
    "for i in range(0,(n//2)+1):\n",
    "    for j in range((n//2)-i):\n",
    "        print(\" \",end =\"\")\n",
    "    for k in range(i+1+i):\n",
    "        print(\"*\", end = \"\")\n",
    "    print(\"\\r\")\n",
    " \n"
   ]
  },
  {
   "cell_type": "markdown",
   "id": "60bf8264-b599-49a1-8c4e-25b5029c9f9b",
   "metadata": {},
   "source": [
    "#### Loop Control : Break, Pass and Continue"
   ]
  },
  {
   "cell_type": "code",
   "execution_count": 29,
   "id": "24cb779c-f16e-4acd-b1b9-ee7e52d54dd7",
   "metadata": {},
   "outputs": [
    {
     "name": "stdout",
     "output_type": "stream",
     "text": [
      "Apple\n",
      "My Fav fruit.\n",
      "Grapes\n",
      "Banana\n"
     ]
    }
   ],
   "source": [
    "fruits = [\"Apple\", \"Grapes\", \"Banana\"]\n",
    "for items in fruits:\n",
    "    if items == \"Grapes\":\n",
    "        print (\"My Fav fruit.\")\n",
    "    print(items)"
   ]
  },
  {
   "cell_type": "markdown",
   "id": "5f45a546-10fa-4918-9728-7dd717828e25",
   "metadata": {},
   "source": [
    "* Break : Break the loop or skip all loop iteration"
   ]
  },
  {
   "cell_type": "code",
   "execution_count": 30,
   "id": "18125e9b-d989-43f7-a4bd-6bf3996f269e",
   "metadata": {},
   "outputs": [
    {
     "name": "stdout",
     "output_type": "stream",
     "text": [
      "Apple\n",
      "My Fav fruit.\n"
     ]
    }
   ],
   "source": [
    "fruits = [\"Apple\", \"Grapes\", \"Banana\"]\n",
    "for items in fruits:\n",
    "    if items == \"Grapes\":\n",
    "        print (\"My Fav fruit.\")\n",
    "        break\n",
    "    print(items)"
   ]
  },
  {
   "cell_type": "markdown",
   "id": "c12b82d5-91e9-4e52-bf28-f9e7292fd33f",
   "metadata": {},
   "source": [
    "* Pass"
   ]
  },
  {
   "cell_type": "code",
   "execution_count": 32,
   "id": "8b27a677-8ab9-424a-9a24-22848a179968",
   "metadata": {},
   "outputs": [
    {
     "name": "stdout",
     "output_type": "stream",
     "text": [
      "Apple\n",
      "My Fav fruit.\n",
      "Grapes\n",
      "Banana\n"
     ]
    }
   ],
   "source": [
    "fruits = [\"Apple\", \"Grapes\", \"Banana\"]\n",
    "for items in fruits:\n",
    "    if items == \"Grapes\":\n",
    "        print (\"My Fav fruit.\")\n",
    "        pass\n",
    "    print(items)"
   ]
  },
  {
   "cell_type": "markdown",
   "id": "307281e1-cc2e-4ca4-b251-a0d1a478c6d6",
   "metadata": {},
   "source": [
    "* Continue : Bypass the loop for next iteration or skip respective iteration only"
   ]
  },
  {
   "cell_type": "code",
   "execution_count": 33,
   "id": "b9235fd9-81e6-40cb-8d86-10ac3cff0c7b",
   "metadata": {},
   "outputs": [
    {
     "name": "stdout",
     "output_type": "stream",
     "text": [
      "Apple\n",
      "My Fav fruit.\n",
      "Banana\n"
     ]
    }
   ],
   "source": [
    "fruits = [\"Apple\", \"Grapes\", \"Banana\"]\n",
    "for items in fruits:\n",
    "    if items == \"Grapes\":\n",
    "        print (\"My Fav fruit.\")\n",
    "        continue\n",
    "    print(items)"
   ]
  },
  {
   "cell_type": "code",
   "execution_count": null,
   "id": "fac160b9-8b57-4cfe-ab5f-d6e5b0a09319",
   "metadata": {},
   "outputs": [],
   "source": []
  }
 ],
 "metadata": {
  "kernelspec": {
   "display_name": "Python 3 (ipykernel)",
   "language": "python",
   "name": "python3"
  },
  "language_info": {
   "codemirror_mode": {
    "name": "ipython",
    "version": 3
   },
   "file_extension": ".py",
   "mimetype": "text/x-python",
   "name": "python",
   "nbconvert_exporter": "python",
   "pygments_lexer": "ipython3",
   "version": "3.10.8"
  }
 },
 "nbformat": 4,
 "nbformat_minor": 5
}
