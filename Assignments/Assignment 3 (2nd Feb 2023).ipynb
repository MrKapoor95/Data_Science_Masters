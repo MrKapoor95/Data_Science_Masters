{
 "cells": [
  {
   "cell_type": "markdown",
   "id": "9ca9f02d-813d-44bd-a901-f6f62c7bfd19",
   "metadata": {},
   "source": [
    "## DS Masters : Assignment 3 (2nd Feb 2023)\n",
    "\n",
    "#### Name : Lucky Kumar\n",
    "#### Email : erluckykapoor@gmail.com\n",
    ".\n",
    "."
   ]
  },
  {
   "cell_type": "markdown",
   "id": "4595c797-20ad-4f32-aeb0-d84e5673cb6b",
   "metadata": {},
   "source": [
    "### 1. What are the characterstics of the tuples? Is tuple immutable?"
   ]
  },
  {
   "cell_type": "markdown",
   "id": "dd3786d9-8e45-4e4c-a648-e13afd2a5406",
   "metadata": {},
   "source": [
    "Ans: The characteristics of a Python tuple are: \n",
    "* Tuples are ordered, indexed collections of data. \n",
    "* Similar to string indices, the first value in the tuple will have the index [0], the second value [1], and so on. \n",
    "* Tuples can store duplicate values\n",
    "\n",
    "Tuple are immutable, we can't reassign the value/item to tuple index."
   ]
  },
  {
   "cell_type": "markdown",
   "id": "8fc9b578-b1c1-4940-aa50-4604945218d0",
   "metadata": {},
   "source": [
    "### 2. What are the two tuple methods in python? Give an example of each method. Give a reason why tuple have only two in-built methods compared to lists."
   ]
  },
  {
   "cell_type": "markdown",
   "id": "1a36d2e0-d00e-4648-b089-25f72528f086",
   "metadata": {},
   "source": [
    "Ans: The tuple has two methods in python:\n",
    "* Index \n",
    "* Count"
   ]
  },
  {
   "cell_type": "code",
   "execution_count": 5,
   "id": "fa2ed7f4-b7dc-4daf-807d-e7584ccf09f3",
   "metadata": {},
   "outputs": [
    {
     "data": {
      "text/plain": [
       "5"
      ]
     },
     "execution_count": 5,
     "metadata": {},
     "output_type": "execute_result"
    }
   ],
   "source": [
    "# Index Example\n",
    "\n",
    "tuple_1 = (1,2,3,4,5, \"Lucky\", \"Kapoor\",1,5)\n",
    "\n",
    "tuple_1.index(\"Lucky\") \n",
    "# Index method return the index of the argument given in the index function."
   ]
  },
  {
   "cell_type": "code",
   "execution_count": 7,
   "id": "b3648817-7f0e-49d1-841a-6dab0c62794c",
   "metadata": {},
   "outputs": [
    {
     "data": {
      "text/plain": [
       "2"
      ]
     },
     "execution_count": 7,
     "metadata": {},
     "output_type": "execute_result"
    }
   ],
   "source": [
    "# count Example\n",
    "tuple_1.count(1)\n",
    "\n",
    "# Count method return the count of the given argument in the count function."
   ]
  },
  {
   "cell_type": "markdown",
   "id": "fb64d874-4335-47b2-a31e-3f81642cf94a",
   "metadata": {},
   "source": [
    "The tuple in python are immutable. so we can't append or perform other modifying methods to the tuple. index and count method dont do any modification to the tuple."
   ]
  },
  {
   "cell_type": "markdown",
   "id": "f75747c2-9cb8-410e-b6b6-acb5ce0a818d",
   "metadata": {},
   "source": [
    "### 3. Which collection datatypes in python do not allow duplicate items? Write a code using a set to remove duplicates from the given list."
   ]
  },
  {
   "cell_type": "markdown",
   "id": "c5442b10-dca6-4389-85ee-c31618701611",
   "metadata": {},
   "source": [
    "Ans: set datatypes dont allow duplicate items.\n",
    "Set is an unordered collection data type that is iterable, mutable, and has no duplicate elements."
   ]
  },
  {
   "cell_type": "code",
   "execution_count": 9,
   "id": "be220516-22e2-41fe-bda2-b49487505378",
   "metadata": {},
   "outputs": [
    {
     "name": "stdout",
     "output_type": "stream",
     "text": [
      "{1, 2, 3, 4}\n",
      "<class 'set'>\n"
     ]
    }
   ],
   "source": [
    "# set function to remove duplicate items\n",
    "list_1 = [1, 1, 1, 2, 1, 3, 1, 4, 2, 1, 2, 2, 2, 3, 2, 4, 3, 1, 3, 2, 3, 3, 3, 4, 4, 1, 4, 2, 4, 3, 4, 4]\n",
    "\n",
    "new_list = set(list_1)\n",
    "print(new_list)\n",
    "print(type(new_list))"
   ]
  },
  {
   "cell_type": "markdown",
   "id": "4d0c8d0a-c8f6-40c7-83a9-b9c04c0020c0",
   "metadata": {},
   "source": [
    "### 4. Explain the difference between the union() and update() methods for a set. Give an example of each method."
   ]
  },
  {
   "cell_type": "markdown",
   "id": "052c7cc2-3fbf-459d-b4f4-637c6736de28",
   "metadata": {},
   "source": [
    "Ans: let us assume two sets : s1 and s2\n",
    "\n",
    "Union() method : s1.union(s2) - return a new set with elements from both s1 and s2.\n",
    "\n",
    "update() method : s1.update(s2) - return set s1 with elements added from t . it is an in-place operation."
   ]
  },
  {
   "cell_type": "code",
   "execution_count": 11,
   "id": "060dd514-a39b-4a82-8bfc-131866fab5df",
   "metadata": {},
   "outputs": [],
   "source": [
    "# Lets we have two list with following elements.\n",
    "s1 = {1,2,3,4,5,6}\n",
    "s2 = {\"lky\", \"kpr\", 10, 22}"
   ]
  },
  {
   "cell_type": "code",
   "execution_count": 13,
   "id": "6ba7c570-fdd3-42da-9b2a-82c6a7be67db",
   "metadata": {},
   "outputs": [
    {
     "name": "stdout",
     "output_type": "stream",
     "text": [
      "{1, 2, 3, 4, 5, 6}\n",
      "{1, 2, 3, 4, 5, 6, 'lky', 10, 'kpr', 22}\n"
     ]
    }
   ],
   "source": [
    "# union()\n",
    "s3 = s1.union(s2)\n",
    "print(s1)\n",
    "print(s3)\n",
    "# return a new set with elements from both s1 and s2. here s1 in not changed."
   ]
  },
  {
   "cell_type": "code",
   "execution_count": 15,
   "id": "61f6e141-1a93-48d7-86d9-88b7f565b895",
   "metadata": {},
   "outputs": [
    {
     "name": "stdout",
     "output_type": "stream",
     "text": [
      "{1, 2, 3, 4, 5, 6, 'lky', 10, 'kpr', 22}\n",
      "None\n"
     ]
    }
   ],
   "source": [
    "# update()\n",
    "s3 = s1.update(s2)\n",
    "print(s1)\n",
    "print(s3)\n",
    "# return set s1 with elements added from t . it is an in-place operation.. \n",
    "# here s1 in not changed. it didn't return a new set s3."
   ]
  },
  {
   "cell_type": "markdown",
   "id": "51ed43c7-8047-41fc-9a5f-114f98855f81",
   "metadata": {},
   "source": [
    "### 5. What is a dictionary? Give an example. Also, state whether a dictionary is ordered or unordered."
   ]
  },
  {
   "cell_type": "markdown",
   "id": "19a4b517-9543-4885-86c9-96e388dae8b6",
   "metadata": {},
   "source": [
    "Ans : Dictionaries are used to store data values in key:value pairs. It is enclosed in curly brackets {} and key and value are seperated by semicolon {key:value} ."
   ]
  },
  {
   "cell_type": "code",
   "execution_count": 16,
   "id": "42ecfd1d-5ed8-4de5-b119-1011434f3460",
   "metadata": {},
   "outputs": [
    {
     "name": "stdout",
     "output_type": "stream",
     "text": [
      "Lucky\n"
     ]
    }
   ],
   "source": [
    "# Example\n",
    "dict_1 = {\"name\" : \"Lucky\" , \"Age\" : 27 , \"Height\" : 170 }\n",
    "print(dict_1[\"name\"])"
   ]
  },
  {
   "cell_type": "markdown",
   "id": "e91b832c-2d86-4199-8631-39051092278b",
   "metadata": {},
   "source": [
    "A dictionary is a collection which is ordered, changeable and do not allow duplicates."
   ]
  },
  {
   "cell_type": "markdown",
   "id": "bcc9df5e-c3ee-431a-928a-1ad33f4aa651",
   "metadata": {},
   "source": [
    "### 6. Can we create a nested dictionary? If so, please give an example by creating a simple one-level nested dictionary."
   ]
  },
  {
   "cell_type": "markdown",
   "id": "0d45faa7-8d80-4e6a-8985-1dd6775b1b89",
   "metadata": {},
   "source": [
    "Ans : Yes. A nested dictionary is a dictionary inside a dictionary. It's a collection of dictionaries into one single dictionary."
   ]
  },
  {
   "cell_type": "code",
   "execution_count": 17,
   "id": "a7fdd221-d314-4e42-bcd3-441465558f40",
   "metadata": {},
   "outputs": [
    {
     "name": "stdout",
     "output_type": "stream",
     "text": [
      "{'key_2': 'value_2'}\n"
     ]
    }
   ],
   "source": [
    "nested_dict = { 'dictA': {'key_1': 'value_1'}, 'dictB': {'key_2': 'value_2'}}\n",
    "print(nested_dict[\"dictB\"])"
   ]
  },
  {
   "cell_type": "markdown",
   "id": "92a4c7b4-9ac8-4950-8eb3-f92843187b20",
   "metadata": {
    "tags": []
   },
   "source": [
    "### 7. Using setdefault() method, create key named topics in the given dictionary and also add the value of the key as this list ['Python', 'Machine Learning’, 'Deep Learning']\n",
    "### dict1 = {'language' : 'Python', 'course': 'Data Science Masters'}"
   ]
  },
  {
   "cell_type": "code",
   "execution_count": 23,
   "id": "7abc330d-b94a-4ff8-b8fd-7155acfb0dd8",
   "metadata": {},
   "outputs": [
    {
     "name": "stdout",
     "output_type": "stream",
     "text": [
      "{'language': 'Python', 'course': 'Data Science Masters', 'topics': ['Python', 'Machine Learning', 'Deep Learning']}\n"
     ]
    }
   ],
   "source": [
    "dict1 = {'language' : 'Python', 'course': 'Data Science Masters'}\n",
    "dict1.setdefault(\"topics\" , [\"Python\", \"Machine Learning\", \"Deep Learning\"])\n",
    "print(dict1)"
   ]
  },
  {
   "cell_type": "markdown",
   "id": "f9d79e7f-76fc-4a9f-bc57-3f96d2afcd2e",
   "metadata": {
    "tags": []
   },
   "source": [
    "### 8. What are the three view objects in dictionaries? Use the three in-built methods in python to display these three view objects for the given dictionary.\n",
    "### dict1 = {'Sport': 'Cricket' , 'Teams': ['India', 'Australia', 'England', 'South Africa', 'Sri Lanka', 'New Zealand']}"
   ]
  },
  {
   "cell_type": "markdown",
   "id": "e327cace-4dc8-45e0-b90e-5559357d225f",
   "metadata": {},
   "source": [
    "Ans : The main view objects of dictionary in python are keys, values and items"
   ]
  },
  {
   "cell_type": "code",
   "execution_count": 24,
   "id": "ee3a46bd-d031-4136-8a8f-a589a33e70e0",
   "metadata": {},
   "outputs": [],
   "source": [
    "dict1 = {'Sport': 'Cricket' , 'Teams': ['India', 'Australia', 'England', 'South Africa', 'Sri Lanka', 'New Zealand']}"
   ]
  },
  {
   "cell_type": "code",
   "execution_count": 25,
   "id": "2530196b-54aa-4e0d-bb6d-0a3a4e116664",
   "metadata": {},
   "outputs": [
    {
     "name": "stdout",
     "output_type": "stream",
     "text": [
      "dict_keys(['Sport', 'Teams'])\n",
      "dict_values(['Cricket', ['India', 'Australia', 'England', 'South Africa', 'Sri Lanka', 'New Zealand']])\n",
      "dict_items([('Sport', 'Cricket'), ('Teams', ['India', 'Australia', 'England', 'South Africa', 'Sri Lanka', 'New Zealand'])])\n"
     ]
    }
   ],
   "source": [
    "print(dict1.keys())\n",
    "print(dict1.values())\n",
    "print(dict1.items())"
   ]
  },
  {
   "cell_type": "code",
   "execution_count": null,
   "id": "502b28cb-7bf0-408b-9e6a-9c74ec4fceae",
   "metadata": {},
   "outputs": [],
   "source": []
  }
 ],
 "metadata": {
  "kernelspec": {
   "display_name": "Python 3 (ipykernel)",
   "language": "python",
   "name": "python3"
  },
  "language_info": {
   "codemirror_mode": {
    "name": "ipython",
    "version": 3
   },
   "file_extension": ".py",
   "mimetype": "text/x-python",
   "name": "python",
   "nbconvert_exporter": "python",
   "pygments_lexer": "ipython3",
   "version": "3.10.8"
  }
 },
 "nbformat": 4,
 "nbformat_minor": 5
}
