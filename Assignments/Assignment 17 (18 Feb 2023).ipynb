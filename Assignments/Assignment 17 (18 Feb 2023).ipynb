{
 "cells": [
  {
   "cell_type": "markdown",
   "id": "6e4d0048-943c-4b21-88a8-39e3d96b4850",
   "metadata": {},
   "source": [
    "## DS Masters : Assignment 17 (18th Feb 2023)\n",
    "\n",
    "#### Name : Lucky Kumar\n",
    "#### Email : erluckykapoor@gmail.com\n",
    ".\n",
    "."
   ]
  },
  {
   "cell_type": "markdown",
   "id": "07298ba5-08ea-4c1f-9910-f578093aca2d",
   "metadata": {},
   "source": [
    "### Q1. What is an API? Give an example, where an API is used in real life."
   ]
  },
  {
   "cell_type": "markdown",
   "id": "ff6e8823-1cb6-461b-9aaf-7bfbc6d16630",
   "metadata": {},
   "source": [
    "Ans: Application Programming Interface (API) is a software interface that allows two applications to interact with each other without any user intervention. API is a collection of software functions and procedures. In simple terms, API means a software code that can be accessed or executed. API is defined as a code that helps two different software’s to communicate and exchange data with each other.\n",
    "\n",
    "Let see how API works using simple daily life example. Imagine that we went to a restaurant to take lunch or dinner. The waiter comes to us gives us a menu card, and we will provide personalize it order like we want a veg sandwich but without onion.\n",
    "After some time, we will get our order from the waiter. However, it is not that simple as it looks as there is some process that happens in between.\n",
    "Here, the waiter plays an important part as we will neither go to the kitchen to collect our order nor will we tell the kitchen staff what we want all this done by the waiter.\n",
    "API also does the same by taking our request, and just like the waiter tell the system what we want and give a response back to us.\n",
    "\n",
    "Application:\n",
    "\n",
    "    Google Maps API’s allow developers to embed Google Maps on webpages by using a JavaScript or Flash interface."
   ]
  },
  {
   "cell_type": "markdown",
   "id": "34bfb492-6bb0-4e5f-9fa3-575a25853cb1",
   "metadata": {},
   "source": [
    "### Q2. Give advantages and disadvantages of using API."
   ]
  },
  {
   "cell_type": "markdown",
   "id": "9e5d3087-bd92-48e6-ac76-30aed9ae971d",
   "metadata": {},
   "source": [
    "Advantage of API\n",
    "* Applications: Access to APIs ensures more flexibility in information-transfer processes.\n",
    "* Reach: APIs let you create layers in apps in order to distribute information to different audiences.\n",
    "* Customization: Furthermore, it can serve as a solution to create different experiences for users, letting protocols, functions, and commands be adapted according to specific demands.\n",
    "* Efficiency: When you have content that is automatically published and made available on different channels simultaneously, APIs allow for more efficient data distribution.\n",
    "* Adaptability: One of the greatest benefits of APIs is the ability it has to adapt to changes through data migration and flexibility of services.\n",
    "\n",
    "Disadvantage of API\n",
    "\n",
    "    There is a lot of conveniences and advantages to APIs, but business leaders should also be aware of the disadvantages. As a single point of entry, an API is a gateway and can become a hacker's primary target. Once the API is compromised, all other applications and systems become vulnerable."
   ]
  },
  {
   "cell_type": "markdown",
   "id": "011dabc5-4a5f-4534-9985-7a329c5ca1ea",
   "metadata": {},
   "source": [
    "### Q3. What is a Web API? Differentiate between API and Web API."
   ]
  },
  {
   "cell_type": "markdown",
   "id": "b4af82bd-2b7c-4ba8-8861-234f803092f0",
   "metadata": {},
   "source": [
    "Web API as the name suggests, is an API over the web which can be accessed using HTTP protocol. It is a concept and not a technology. We can build Web API using different technologies such as Java, .NET etc.\n",
    "\n",
    "Difference between API and Web API\n",
    "\n",
    "    Contrary to what you might think, APIs and web services are not mutually exclusive. In fact, one is a subset of the other: every web service is an API — since it exposes an application’s data and/or functionality — but not every API is a web service. This is because the definition of a web service is quite restrictive when it comes to implementation:\n",
    "\n",
    "    Web services require a network. While APIs can be on- or offline, web services must use a network.\n",
    "    APIs are protocol agnostic. While APIs can use any protocols or design styles, web services usually use SOAP (but sometimes REST, UDDI, and XML-RPC)."
   ]
  },
  {
   "cell_type": "markdown",
   "id": "2f7acaac-cef5-4edb-9c6b-1f9c9492e348",
   "metadata": {
    "tags": []
   },
   "source": [
    "### Q4. Explain REST and SOAP Architecture. Mention shortcomings of SOAP."
   ]
  },
  {
   "cell_type": "markdown",
   "id": "70f48c28-5ffc-46d1-aa65-6ab81e079160",
   "metadata": {},
   "source": [
    "* SOAP\n",
    "\n",
    "    SOAP is a protocol which was designed before REST and came into the picture. The main idea behind designing SOAP was to ensure that programs built on different platforms and programming languages could exchange data in an easy manner. SOAP stands for Simple Object Access Protocol.\n",
    "\n",
    "* REST\n",
    "\n",
    "    REST was designed specifically for working with components such as media components, files, or even objects on a particular hardware device. Any web service that is defined on the principles of REST can be called a RestFul web service. A Restful service would use the normal HTTP verbs of GET, POST, PUT and DELETE for working with the required components. REST stands for Representational State Transfer.\n",
    "    \n",
    "Shortcomings of SOAP\n",
    "\n",
    "    Poorer performance, more complexity, less flexibility."
   ]
  },
  {
   "cell_type": "markdown",
   "id": "477e70fb-de3f-402f-9918-980c3d1b2062",
   "metadata": {
    "tags": []
   },
   "source": [
    "### Q5. Differentiate between REST and SOAP."
   ]
  },
  {
   "cell_type": "markdown",
   "id": "576fc80a-0b9e-41bb-a021-83ec97481dbf",
   "metadata": {},
   "source": [
    "Ans:Difference Between SOAP and REST API are\n",
    "* SOAP stands for Simple Object Access Protocol whereas REST stands for Representational State Transfer.\n",
    "* SOAP is a protocol whereas REST is an architectural pattern.\n",
    "* SOAP uses service interfaces to expose its functionality to client applications while REST uses Uniform Service locators to access to the components on the hardware device.\n",
    "* SOAP needs more bandwidth for its usage whereas REST doesn’t need much bandwidth.\n",
    "* Comparing SOAP vs REST API, SOAP only works with XML formats whereas REST work with plain text, XML, HTML and JSON.\n",
    "* SOAP cannot make use of REST whereas REST can make use of SOAP.\n"
   ]
  }
 ],
 "metadata": {
  "kernelspec": {
   "display_name": "Python 3 (ipykernel)",
   "language": "python",
   "name": "python3"
  },
  "language_info": {
   "codemirror_mode": {
    "name": "ipython",
    "version": 3
   },
   "file_extension": ".py",
   "mimetype": "text/x-python",
   "name": "python",
   "nbconvert_exporter": "python",
   "pygments_lexer": "ipython3",
   "version": "3.10.8"
  }
 },
 "nbformat": 4,
 "nbformat_minor": 5
}
