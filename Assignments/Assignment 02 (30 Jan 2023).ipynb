{
 "cells": [
  {
   "cell_type": "markdown",
   "id": "bc290f2d-eea8-4a9c-a333-42f4f7546082",
   "metadata": {},
   "source": [
    "## DS Masters : Assignment 2 (30th Jan 2023)\n",
    "\n",
    "#### Name : Lucky Kumar\n",
    "#### Email : erluckykapoor@gmail.com\n",
    ".\n",
    "."
   ]
  },
  {
   "cell_type": "markdown",
   "id": "3c619f8d-4875-4e3d-a289-1918b4da9e3e",
   "metadata": {},
   "source": [
    "#### 1. Write a program to accept percentage from the user and display the grade according to the following criteria:"
   ]
  },
  {
   "cell_type": "markdown",
   "id": "55938046-099d-47b8-ac5a-91ce3f756fa9",
   "metadata": {},
   "source": [
    "| Marks      | Grade      |\n",
    "|------------|------------|\n",
    "| > 90       | A          |\n",
    "| > 80 and <= 90       | B          |\n",
    "| >= 60 and <= 80       | C         |\n",
    "| < 60       | D          |"
   ]
  },
  {
   "cell_type": "code",
   "execution_count": 4,
   "id": "57a8fa4d-313e-4251-bcc1-0112c5c1b8e2",
   "metadata": {},
   "outputs": [
    {
     "name": "stdin",
     "output_type": "stream",
     "text": [
      "Enter your Percentage:  81\n"
     ]
    },
    {
     "name": "stdout",
     "output_type": "stream",
     "text": [
      "Your Grade is B.\n"
     ]
    }
   ],
   "source": [
    "user_per = int(input(\"Enter your Percentage: \"))\n",
    "if user_per > 90:\n",
    "    print(\"Your Grade is A.\")\n",
    "elif user_per > 80 and user_per <= 90:\n",
    "    print(\"Your Grade is B.\")\n",
    "elif user_per >= 60 and user_per <= 80:\n",
    "    print(\"Your Grade is C.\")\n",
    "else:\n",
    "    print(\"Your Grade is D.\")"
   ]
  },
  {
   "cell_type": "markdown",
   "id": "b4ebf2ec-a51e-4668-bba7-7f734f94ef37",
   "metadata": {},
   "source": [
    "#### 2. Write a program to accept cost price of a bike and display the road tax to be paid according to the following criteria:\n",
    "\n",
    "| Tax | Cost Price(in Rs) |\n",
    "| ---- | ------|\n",
    "| 15 % | > 100000 |\n",
    "| 10 % | > 50000 and <= 100000|\n",
    "| 5 % | <= 50000 |"
   ]
  },
  {
   "cell_type": "code",
   "execution_count": 3,
   "id": "2ebb1afe-5f3e-4dd4-94e3-0bbc22fd0805",
   "metadata": {},
   "outputs": [
    {
     "name": "stdin",
     "output_type": "stream",
     "text": [
      "What is the Price of the bike? \n",
      " 100000\n"
     ]
    },
    {
     "name": "stdout",
     "output_type": "stream",
     "text": [
      "Raod Tax : 10000.0\n"
     ]
    }
   ],
   "source": [
    "# Program to find out road tax\n",
    "\n",
    "bike_cost = int(input(\"What is the Price of the bike? \\n\"))\n",
    "\n",
    "if bike_cost > 100000:\n",
    "    print(f\"Raod Tax : {bike_cost * 0.15}\")\n",
    "elif bike_cost > 50000 and bike_cost <= 100000 :\n",
    "    print(f\"Raod Tax : {bike_cost * 0.1}\")\n",
    "else: \n",
    "    print(f\"Raod Tax : {bike_cost * 0.05}\")"
   ]
  },
  {
   "cell_type": "markdown",
   "id": "84db6a12-65e1-49b7-8e68-bedd6fde1a58",
   "metadata": {},
   "source": [
    "#### 3. Accept any city from the user and display monuments of that city:\n",
    "\n",
    "| City | Monumentss |\n",
    "| ---- | ------|\n",
    "| Delhi | Red Fort |\n",
    "| Agra | Taj Mahal|\n",
    "| Jaipur | Jal Mahal |"
   ]
  },
  {
   "cell_type": "code",
   "execution_count": 14,
   "id": "c782e3cf-0fa4-4b6b-a477-65f12eb3b04e",
   "metadata": {},
   "outputs": [
    {
     "name": "stdin",
     "output_type": "stream",
     "text": [
      " Select a city from below list: \n",
      " Delhi , Agra, Jaipur \n",
      " City:  delhi\n"
     ]
    },
    {
     "name": "stdout",
     "output_type": "stream",
     "text": [
      "The famous monument in Delhi is Red Fort.\n"
     ]
    }
   ],
   "source": [
    "# \n",
    "city = (input(''' Select a city from below list: \n",
    " Delhi , Agra, Jaipur \n",
    " City: ''')).capitalize()\n",
    "\n",
    "if city == \"Delhi\":\n",
    "    print(f\"The famous monument in {city} is Red Fort.\")\n",
    "elif city == \"Agra\":\n",
    "    print(f\"The famous monument in {city} is Red Fort.\")\n",
    "elif city == \"Jaipur\":\n",
    "    print(f\"The famous monument in {city} is Red Fort.\")\n",
    "else:\n",
    "    print(\"Enter City name from the above list.\")"
   ]
  },
  {
   "cell_type": "markdown",
   "id": "33eb90a5-b748-41e7-ac2b-0fbc5bc43224",
   "metadata": {},
   "source": [
    "#### 4. Check how many times a given number can be divided by 3 before it is less than or equal to 10."
   ]
  },
  {
   "cell_type": "code",
   "execution_count": 20,
   "id": "9fa05970-ca8e-46db-9c2e-19f81935b0bb",
   "metadata": {},
   "outputs": [
    {
     "name": "stdin",
     "output_type": "stream",
     "text": [
      "Enter a number:  300\n"
     ]
    },
    {
     "name": "stdout",
     "output_type": "stream",
     "text": [
      "The entered number can be divided 4 times before it is <= 10.\n"
     ]
    }
   ],
   "source": [
    "num = int(input(\"Enter a number: \"))\n",
    "count = 0\n",
    "while num > 10:\n",
    "    num = num/3\n",
    "    count += 1\n",
    "print(f\"The entered number can be divided {count} times before it is <= 10.\")"
   ]
  },
  {
   "cell_type": "markdown",
   "id": "91831545-90b4-44af-98d9-8ab2910652a9",
   "metadata": {},
   "source": [
    "#### 5. Why and When to use while loop in python. Give a detailed description with example."
   ]
  },
  {
   "cell_type": "markdown",
   "id": "1b04d77f-bb0e-4e6c-a7d8-7112c4d8b7d6",
   "metadata": {},
   "source": [
    "Ans: A \"While\" Loop is used to repeat a specific block until a condition is met. It is used when number of iteration are unknown. \n",
    "Example: Finding the total sum of the digit of number from user input.  "
   ]
  },
  {
   "cell_type": "code",
   "execution_count": 5,
   "id": "02932c0b-6d31-4da9-b4f1-b1871c2f58f1",
   "metadata": {},
   "outputs": [
    {
     "name": "stdin",
     "output_type": "stream",
     "text": [
      "Enter a number:  435\n"
     ]
    },
    {
     "name": "stdout",
     "output_type": "stream",
     "text": [
      "The sum of digit of 435 is 12.\n"
     ]
    }
   ],
   "source": [
    "num = int(input(\"Enter a number: \"))\n",
    "num_inp = num\n",
    "total = 0\n",
    "while num_inp > 0:\n",
    "    remainder = num_inp % 10\n",
    "    total += remainder\n",
    "    num_inp = num_inp // 10\n",
    "    \n",
    "print(f\"The sum of digit of {num} is {total}.\")"
   ]
  },
  {
   "cell_type": "markdown",
   "id": "f0423c3f-0631-4e80-b417-d223870133d1",
   "metadata": {},
   "source": [
    "#### 6. Use nested while loop to print 3 different pattern."
   ]
  },
  {
   "cell_type": "code",
   "execution_count": 25,
   "id": "93c70907-312b-45fe-821e-facf2a901909",
   "metadata": {},
   "outputs": [
    {
     "name": "stdout",
     "output_type": "stream",
     "text": [
      "* \n",
      "* * \n",
      "* * * \n",
      "* * * * \n",
      "* * * * * \n"
     ]
    }
   ],
   "source": [
    "# Pattern 1\n",
    "\n",
    "count = 5\n",
    "iteration = 1\n",
    "while iteration <= count:\n",
    "    n = 1\n",
    "    while n <= iteration :\n",
    "        print(\"*\", end = \" \")\n",
    "        n += 1\n",
    "    iteration += 1\n",
    "    print(\"\")"
   ]
  },
  {
   "cell_type": "code",
   "execution_count": 29,
   "id": "6429ac2d-69ec-4f45-bcb2-d1bd6bcaa9ff",
   "metadata": {},
   "outputs": [
    {
     "name": "stdout",
     "output_type": "stream",
     "text": [
      "* * * * * \n",
      "* * * * \n",
      "* * * \n",
      "* * \n",
      "* \n",
      "\n"
     ]
    }
   ],
   "source": [
    "# Pattern 2\n",
    "\n",
    "count = 5\n",
    "\n",
    "while count > 0:\n",
    "    iteration = count\n",
    "    while iteration > 0:\n",
    "        print(\"*\", end = \" \")\n",
    "        iteration -= 1\n",
    "    count -= 1\n",
    "    print(\"\")\n",
    "'''\n",
    "    for i in range(count):\n",
    "        print(\"*\", end = \" \")\n",
    "    count = count - 1'''\n",
    "\n",
    "print(\"\")\n",
    "        "
   ]
  },
  {
   "cell_type": "code",
   "execution_count": 7,
   "id": "af9d61f3-5e86-4438-bd86-ea26a9462a46",
   "metadata": {},
   "outputs": [
    {
     "name": "stdin",
     "output_type": "stream",
     "text": [
      "Enter a number :  4\n"
     ]
    },
    {
     "name": "stdout",
     "output_type": "stream",
     "text": [
      "1 \n",
      "2 3 \n",
      "4 5 6 \n",
      "7 8 9 10 \n"
     ]
    }
   ],
   "source": [
    "# Pattern 3\n",
    "row = int(input(\"Enter a number : \"))\n",
    "i = 1\n",
    "count = 0\n",
    "while i < row+1:\n",
    "    colm = i\n",
    "    while count < colm*(colm+1)/2:\n",
    "        count += 1\n",
    "        print(count, end=\" \")\n",
    "    \n",
    "    i += 1\n",
    "    print(\"\")"
   ]
  },
  {
   "cell_type": "markdown",
   "id": "a2d904b3-7f4c-4469-9701-e2394b82296c",
   "metadata": {},
   "source": [
    "#### 7. Reverse a while loop to display number from 10 to 1."
   ]
  },
  {
   "cell_type": "code",
   "execution_count": 10,
   "id": "ea43a0fa-b1d3-492a-a1fb-d86d1f61ed44",
   "metadata": {},
   "outputs": [
    {
     "name": "stdout",
     "output_type": "stream",
     "text": [
      "10 9 8 7 6 5 4 3 2 1 "
     ]
    }
   ],
   "source": [
    "i = 10\n",
    "while i >= 1:\n",
    "    print(i, end = \" \")\n",
    "    i -= 1"
   ]
  },
  {
   "cell_type": "markdown",
   "id": "69eab172-a62e-47e1-bfb6-e28c5b8355e8",
   "metadata": {},
   "source": [
    "#### 8. Reverse a while loop to display number from 10 to 1."
   ]
  },
  {
   "cell_type": "code",
   "execution_count": 9,
   "id": "cd64607f-2b90-432b-a8ef-dc946e0d3bcc",
   "metadata": {},
   "outputs": [
    {
     "name": "stdout",
     "output_type": "stream",
     "text": [
      "10\n",
      "9\n",
      "8\n",
      "7\n",
      "6\n",
      "5\n",
      "4\n",
      "3\n",
      "2\n",
      "1\n"
     ]
    }
   ],
   "source": [
    "i = 10\n",
    "while i >= 1:\n",
    "    print(i)\n",
    "    i -= 1"
   ]
  },
  {
   "cell_type": "code",
   "execution_count": null,
   "id": "d3ce2091-3b2a-45ac-b093-e26e66a7fd08",
   "metadata": {},
   "outputs": [],
   "source": []
  }
 ],
 "metadata": {
  "kernelspec": {
   "display_name": "Python 3 (ipykernel)",
   "language": "python",
   "name": "python3"
  },
  "language_info": {
   "codemirror_mode": {
    "name": "ipython",
    "version": 3
   },
   "file_extension": ".py",
   "mimetype": "text/x-python",
   "name": "python",
   "nbconvert_exporter": "python",
   "pygments_lexer": "ipython3",
   "version": "3.10.8"
  }
 },
 "nbformat": 4,
 "nbformat_minor": 5
}
