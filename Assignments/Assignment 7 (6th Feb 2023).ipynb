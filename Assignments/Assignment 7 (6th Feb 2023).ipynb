{
 "cells": [
  {
   "cell_type": "markdown",
   "id": "e16edcae-baa3-424e-b001-fbe8165408c2",
   "metadata": {},
   "source": [
    "## DS Masters : Assignment 4 (3rd Feb 2023)\n",
    "\n",
    "#### Name : Lucky Kumar\n",
    "#### Email : erluckykapoor@gmail.com\n",
    ".\n",
    "."
   ]
  },
  {
   "cell_type": "markdown",
   "id": "ecdd073e-3c0e-463a-8aa9-254bf735c1b1",
   "metadata": {},
   "source": [
    "### Q1. Create a function which will take a list as an argument and return the product of all the numbers after creating a flat list.Use the below-given list as an argument for your function.\n",
    "list1 = [1,2,3,4, [44,55,66, True], False, (34,56,78,89,34), {1,2,3,3,2,1}, {1:34, \"key2\": [55, 67, 78, 89], 4: (45,\n",
    "22, 61, 34)}, [56, 'data science'], 'Machine Learning']"
   ]
  },
  {
   "cell_type": "code",
   "execution_count": 36,
   "id": "eac49c62-bed4-47c5-870a-5993f13d5ad6",
   "metadata": {},
   "outputs": [
    {
     "name": "stdout",
     "output_type": "stream",
     "text": [
      "Flat list : [1, 2, 3, 4, 44, 55, 66, True, False, 34, 56, 78, 89, 34, 1, 2, 3, 1, 34, 'key2', 55, 67, 78, 89, 4, 45, 22, 61, 34, 56, 'data science', 'Machine Learning']\n",
      "Product of numeric data : 4134711838987085478833841242112000\n"
     ]
    }
   ],
   "source": [
    "list1 = [1,2,3,4, [44,55,66, True], False, (34,56,78,89,34), {1,2,3,3,2,1}, {1:34, \"key2\": [55, 67, 78, 89], 4: (45, 22, 61, 34)}, [56, 'data science'], 'Machine Learning']\n",
    "\n",
    "def flat_list(lst):\n",
    "    flate = []\n",
    "    for i in lst:\n",
    "        if type(i) == int or type(i) == str or type(i) == bool:\n",
    "            flate.append(i)\n",
    "        elif type(i) == list or type(i) == set or type(i) == tuple:\n",
    "            for j in i:\n",
    "                flate.append(j)\n",
    "        elif type(i) == dict:\n",
    "            for k in i.items():\n",
    "                flate.append(k[0])\n",
    "                if type(k[1]) == int or type(k[1]) == str or type(k[1]) == bool:\n",
    "                    flate.append(k[1])\n",
    "                else:\n",
    "                    for l in k[1]:\n",
    "                        flate.append(l)\n",
    "    num_flat = []\n",
    "    for i in flate:\n",
    "        if type(i) == int:\n",
    "            num_flat.append(i)\n",
    "    product = 1        \n",
    "    for i in num_flat:\n",
    "        product = product * i\n",
    "    return flate, product\n",
    "\n",
    "print(f\"Flat list : {flat_list(list1)[0]}\")\n",
    "print(f\"Product of numeric data : {flat_list(list1)[1]}\")"
   ]
  },
  {
   "cell_type": "markdown",
   "id": "42709d9c-e6c8-4734-b39b-7161e83a1fa5",
   "metadata": {},
   "source": [
    "### Q2. Write a python program for encrypting a message sent to you by your friend. The logic of encryption should be such that, for a the output should be z. For b, the output should be y. For c, the output should be x respectively. Also, the whitespace should be replaced with a dollar sign. Keep the punctuation marks unchanged.\n",
    "\n",
    "### Input Sentence: I want to become a Data Scientist.\n",
    "### Encrypt the above input sentence using the program you just created.\n",
    "### Note: Convert the given input sentence into lowercase before encrypting. The final output should be lowercase."
   ]
  },
  {
   "cell_type": "code",
   "execution_count": 38,
   "id": "0da98488-047a-45b6-8fb9-288bf1913f98",
   "metadata": {},
   "outputs": [
    {
     "data": {
      "text/plain": [
       "'i$wznt$to$yexome$z$dztz$sxientist.'"
      ]
     },
     "execution_count": 38,
     "metadata": {},
     "output_type": "execute_result"
    }
   ],
   "source": [
    "# if we have to encypt a,b,and c only (The question is unclear)\n",
    "\n",
    "def encrypt(string):\n",
    "    coded = \"\"\n",
    "    for i in string:\n",
    "        if i == \"a\":\n",
    "            coded = coded + \"z\"\n",
    "        elif i == \"b\":\n",
    "            coded = coded + \"y\"\n",
    "        elif i == \"c\":\n",
    "            coded = coded + \"x\"\n",
    "        elif i == \" \":\n",
    "            coded = coded + \"$\"\n",
    "        else:\n",
    "            coded = coded + i\n",
    "    return coded\n",
    "\n",
    "sentence = \"I want to become a Data Scientist.\"\n",
    "en = encrypt(sentence.lower())\n",
    "print(en)"
   ]
  },
  {
   "cell_type": "code",
   "execution_count": 40,
   "id": "80c188ef-1fa3-47e8-9908-3a17cba15213",
   "metadata": {},
   "outputs": [
    {
     "data": {
      "text/plain": [
       "'r$dzmg$gl$yvxlnv$z$wzgz$hxrvmgrhg.'"
      ]
     },
     "execution_count": 40,
     "metadata": {},
     "output_type": "execute_result"
    }
   ],
   "source": [
    "# if we have to encypt a - z in z - a order.\n",
    "def encrypt(string):\n",
    "    string = string.lower()\n",
    "    coded = \"\"\n",
    "    a_z = \"abcdefghijklmnopqrstuvwxyz\"\n",
    "    z_a = \"zyxwvutsrqponmlkjihgfedcba\"\n",
    "    \n",
    "    for i in string:\n",
    "        if i == \" \":\n",
    "            coded = coded + \"$\"   \n",
    "        elif i == \".\":\n",
    "            coded = coded + \".\"\n",
    "        else:\n",
    "            for j in a_z:\n",
    "                if j == i:\n",
    "                    index = a_z.index(j)\n",
    "                    coded = coded + z_a[index]\n",
    "    return coded\n",
    "        \n",
    "    \n",
    "\n",
    "sentence = \"I want to become a Data Scientist.\"\n",
    "enc = encrypt(sentence)\n",
    "enc"
   ]
  },
  {
   "cell_type": "markdown",
   "id": "cd1da5fd-06bc-4245-af92-91273dc70058",
   "metadata": {},
   "source": []
  }
 ],
 "metadata": {
  "kernelspec": {
   "display_name": "Python 3 (ipykernel)",
   "language": "python",
   "name": "python3"
  },
  "language_info": {
   "codemirror_mode": {
    "name": "ipython",
    "version": 3
   },
   "file_extension": ".py",
   "mimetype": "text/x-python",
   "name": "python",
   "nbconvert_exporter": "python",
   "pygments_lexer": "ipython3",
   "version": "3.10.8"
  }
 },
 "nbformat": 4,
 "nbformat_minor": 5
}
