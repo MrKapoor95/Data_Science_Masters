{
 "cells": [
  {
   "cell_type": "markdown",
   "id": "77555468-84d2-40a7-842e-dcbda389b552",
   "metadata": {},
   "source": [
    "## DS Masters : Assignment 15 (16th Feb 2023)\n",
    "\n",
    "#### Name : Lucky Kumar\n",
    "#### Email : erluckykapoor@gmail.com\n",
    ".\n",
    "."
   ]
  },
  {
   "cell_type": "markdown",
   "id": "a852adaf-845d-4fab-aa85-f184081b85c7",
   "metadata": {},
   "source": [
    "### Q1. What is a database? Differentiate between SQL and NoSQL databases."
   ]
  },
  {
   "cell_type": "markdown",
   "id": "77f30b57-0507-4e6e-9478-6c94fe94704b",
   "metadata": {},
   "source": [
    "Ans: A database is an organized collection of structured information, or data, typically stored electronically in a computer system. A database is usually controlled by a database management system (DBMS).\n",
    "\n",
    "* SQL Database: SQL database or relational database is a collection of highly structured tables, wherein each row reflects a data entity, and every column defines a specific information field. Relational databases are built using the structured query language (SQL) to create, store, update, and retrieve data.\n",
    "\n",
    "* NoSQL Database: NoSQL databases store data in documents rather than relational tables. Accordingly, we classify them as \"not only SQL\" and subdivide them by a variety of flexible data models. Types of NoSQL databases include pure document databases, key-value stores, wide-column databases, and graph databases.\n"
   ]
  },
  {
   "cell_type": "markdown",
   "id": "50601108-53dd-4aa8-923d-cfa4d791e51b",
   "metadata": {},
   "source": [
    "### Q2. What is DDL? Explain why CREATE, DROP, ALTER, and TRUNCATE are used with an example."
   ]
  },
  {
   "cell_type": "markdown",
   "id": "ca7b4ab5-97e6-4e5f-bc2c-d7d94e86e668",
   "metadata": {},
   "source": [
    "Ans: DDL stands for Data Definition Language, it helps to define the database structure or schema.\n",
    "\n",
    "* CREATE: CREATE statements is used to define the database structure schema:\n",
    "\n",
    "    For example:\n",
    "``` sql \n",
    "    Create database university;\n",
    "    Create table students; \n",
    "```\n",
    "\n",
    "* DROP: Drops commands remove tables and databases from RDBMS.\n",
    "\n",
    "    For example:\n",
    "``` sql\n",
    "    Drop database university;\n",
    "    Drop table student;\n",
    "```\n",
    "* ALTER : Alter command allows you to alter the structure of the database.\n",
    "\n",
    "    For example:\n",
    "    To add a new column in the table\n",
    "``` sql \n",
    "    ALTER TABLE table_name ADD column_name COLUMN-definition; \n",
    "```\n",
    "\n",
    "    To modify an existing column in the table:\n",
    "``` sql \n",
    "    ALTER TABLE MODIFY(COLUMN DEFINITION....);  \n",
    "```\n",
    "\n",
    "* TRUNCATE:This command used to delete all the rows from the table and free the space containing the table.\n",
    "    For examples:\n",
    "``` sql\n",
    "    TRUNCATE table students;\n",
    "```"
   ]
  },
  {
   "cell_type": "markdown",
   "id": "ab6b606d-0044-45d8-91bd-70b5ccc33abc",
   "metadata": {},
   "source": [
    "### Q3. What is DML? Explain INSERT, UPDATE, and DELETE with an example."
   ]
  },
  {
   "cell_type": "markdown",
   "id": "385db02a-9153-4ada-9bb8-ebb1c8872c90",
   "metadata": {},
   "source": [
    "Ans: Data Manipulation Language (DML) allows to modify the database instance by inserting, modifying, and deleting its data. It is responsible for performing all types of data modification in a database.\n",
    "\n",
    "There are three basic DML commands in SQL:\n",
    "\n",
    "1. INSERT\n",
    "2. UPDATE\n",
    "3. DELETE\n",
    "Let us study one by one.\n",
    "\n",
    "1. INSERT: This is a statement is a SQL query. This command is used to insert data into the row of a table.\n",
    " \n",
    "    For example:\n",
    "```sql\n",
    "    INSERT INTO students (RollNo, FIrstName, LastName) VALUES ('60', 'Tom', Erichsen');\n",
    "```\n",
    "2. UPDATE: This command is used to update or modify the value of a column in the table.\n",
    "\n",
    "    For example:\n",
    "```sql\n",
    "    UPDATE students    \n",
    "    SET FirstName = 'Jhon', LastName= 'Wick' \n",
    "    WHERE StudID = 3;\n",
    "```\n",
    "3. DELETE: This command is used to remove one or more rows from a table.\n",
    "\n",
    "    For example:\n",
    "```sql\n",
    "    DELETE FROM students \n",
    "    WHERE FirstName = 'Jhon';\n",
    "```"
   ]
  },
  {
   "cell_type": "markdown",
   "id": "5fdf154e-55fe-499b-a777-53871f71083c",
   "metadata": {},
   "source": [
    "### Q4. What is DQL? Explain SELECT with an example."
   ]
  },
  {
   "cell_type": "markdown",
   "id": "018e81f7-112c-47ef-9c8f-0ef27261c41f",
   "metadata": {},
   "source": [
    "Ans: Data Query Language (DQL) is used to fetch the data from the database. It uses only one command:\n",
    "\n",
    "* SELECT: \n",
    "    This command helps you to select the attribute based on the condition described by the WHERE clause.\n",
    "\n",
    "    Syntax:\n",
    "```sql \n",
    "    SELECT columns     \n",
    "    FROM TABLES    \n",
    "    WHERE conditions;  \n",
    "```\n",
    "    For example:\n",
    "```sql\n",
    "    SELECT FirstName  \n",
    "    FROM Student  \n",
    "    WHERE RollNo > 15; \n",
    "```"
   ]
  },
  {
   "cell_type": "markdown",
   "id": "5fff6440-8cc3-47d9-9720-2e83935a878d",
   "metadata": {},
   "source": [
    "### Q5. Explain Primary Key and Foreign Key."
   ]
  },
  {
   "cell_type": "markdown",
   "id": "2bd70ceb-5181-4150-8bc6-51d664a7d3ff",
   "metadata": {},
   "source": [
    "Ans: \n",
    "* Primary Key: \n",
    "    A primary key is a unique identifier used to ensure that data in the specific column is unique. A column cannot have NULL values. It is either an existing table column or a column that is specifically generated by the database according to a defined sequence. \n",
    "\n",
    "\n",
    "* Foreign Key: \n",
    "    A foreign key is a column or group of columns in a relational database table that provides a link between data in two tables. It is a column (or columns) that references a column (most often the primary key) of another table. \n",
    "\n"
   ]
  },
  {
   "cell_type": "markdown",
   "id": "ea17a5cb-61d8-42bc-8dd8-50d37ba7edd3",
   "metadata": {},
   "source": [
    "### Q6. Write a python code to connect MySQL to python. Explain the cursor() and execute() method."
   ]
  },
  {
   "cell_type": "code",
   "execution_count": null,
   "id": "c6a8dc7a-a511-40b2-b523-fff64443e951",
   "metadata": {},
   "outputs": [],
   "source": [
    "# We need to first import the MySQL Connector to establish the connection\n",
    "import mysql.connector\n",
    "# provide the credential to establish the connection\n",
    "mydb = mysql.connector.connect(\n",
    "    host = \"localhost\",\n",
    "    user = \"abc\",\n",
    "    password = \"password\"\n",
    ")\n",
    "\n",
    "# We need to define a cursor to perform various operation with database\n",
    "mycursor = mydb.cursor()\n",
    "# Now we can perform the various sql statement using execute function\n",
    "mycursor.execute(\"CREATE DATABASE database_name;\")"
   ]
  },
  {
   "cell_type": "markdown",
   "id": "f8a63fd1-bc05-407c-b1fd-992d2ddae7a2",
   "metadata": {},
   "source": [
    "\n",
    "Method cursor.execute (): The execute () method helps us to execute the query and return records according to the query."
   ]
  },
  {
   "cell_type": "markdown",
   "id": "8dcf0d45-acef-4661-8c26-a5d71bd4951d",
   "metadata": {},
   "source": [
    "### Q7. Give the order of execution of SQL clauses in an SQL query."
   ]
  },
  {
   "cell_type": "markdown",
   "id": "66862790-ca3a-415c-915a-51da7730d874",
   "metadata": {},
   "source": [
    "Ans: Order of Execution\n",
    "    SQL queries adhere to a specific order when evaluating clauses, similar to how mathematical operations adhere to PEMDAS or BIDMAS.\n",
    "\n",
    "    From the eyes of the user, queries begin from the first clause and end at the last clause. However, queries aren’t actually read from top to bottom when carried out.\n",
    "\n",
    "    The order in which the clauses in queries are executed is as follows:\n",
    "\n",
    "    1. FROM/JOIN: The FROM and/or JOIN clauses are executed first to determine the data of interest.\n",
    "\n",
    "    2. WHERE: The WHERE clause is executed to filter out records that do not meet the constraints.\n",
    "\n",
    "    3. GROUP BY: The GROUP BY clause is executed to group the data based on the values in one or more columns.\n",
    "\n",
    "    4. HAVING: The HAVING clause is executed to remove the created grouped records that don’t meet the constraints.\n",
    "\n",
    "    5. SELECT: The SELECT clause is executed to derive all desired columns and expressions.\n",
    "\n",
    "    6. ORDER BY: The ORDER BY clause is executed to sort the derived values in ascending or descending order.\n",
    "\n",
    "    7. LIMIT/OFFSET: Finally, the LIMIT and/or OFFSET clauses are executed to keep or skip a specified number of rows."
   ]
  }
 ],
 "metadata": {
  "kernelspec": {
   "display_name": "Python 3 (ipykernel)",
   "language": "python",
   "name": "python3"
  },
  "language_info": {
   "codemirror_mode": {
    "name": "ipython",
    "version": 3
   },
   "file_extension": ".py",
   "mimetype": "text/x-python",
   "name": "python",
   "nbconvert_exporter": "python",
   "pygments_lexer": "ipython3",
   "version": "3.10.8"
  }
 },
 "nbformat": 4,
 "nbformat_minor": 5
}
