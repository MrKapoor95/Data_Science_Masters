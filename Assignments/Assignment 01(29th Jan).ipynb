{
 "cells": [
  {
   "cell_type": "markdown",
   "id": "c90dfa52-213c-482c-8a25-d60160bd9989",
   "metadata": {},
   "source": [
    "### Assignment Questions"
   ]
  },
  {
   "cell_type": "markdown",
   "id": "4a666610-d0dd-4040-b010-ec4ed7ec88c6",
   "metadata": {},
   "source": [
    "##### 1. Who developed Python Programming Language?\n",
    "###### Ans: Guido van Rossum"
   ]
  },
  {
   "cell_type": "markdown",
   "id": "e29d6ff5-e199-44eb-95a0-b2efbf51a948",
   "metadata": {
    "tags": []
   },
   "source": [
    "##### 2. Which type of Programming does Python support?\n",
    "###### Ans: Object-Oriented Programming Language"
   ]
  },
  {
   "cell_type": "markdown",
   "id": "03cac20e-93b2-415b-9347-e5a9ca5b31e0",
   "metadata": {
    "tags": []
   },
   "source": [
    "##### 3. Is Python case sensitive when dealing with identifiers?\n",
    "###### Ans: Yes."
   ]
  },
  {
   "cell_type": "code",
   "execution_count": 3,
   "id": "48ee777e-a6a6-41bb-a8d6-c521397fd674",
   "metadata": {},
   "outputs": [
    {
     "name": "stdout",
     "output_type": "stream",
     "text": [
      "3\n",
      "2\n"
     ]
    }
   ],
   "source": [
    "a = 2\n",
    "A = 3\n",
    "print(A)\n",
    "print(a)"
   ]
  },
  {
   "cell_type": "markdown",
   "id": "69e33a2d-927d-426c-928a-e3132a6d114a",
   "metadata": {
    "tags": []
   },
   "source": [
    "##### 4. What is the correct extension of the Python file?\n",
    "###### Ans: .py"
   ]
  },
  {
   "cell_type": "markdown",
   "id": "749b4776-f5aa-4ab5-a254-d9d508b1cec8",
   "metadata": {
    "tags": []
   },
   "source": [
    "##### 5. Is Python code compiled or interpreted?\n",
    "###### Ans: Interpreted"
   ]
  },
  {
   "cell_type": "markdown",
   "id": "2cb6832a-860b-4f84-8deb-ca800e36fdb1",
   "metadata": {
    "tags": []
   },
   "source": [
    "##### 6. Name a few blocks of code used to define in Python language?\n",
    "###### Ans: Indendation is used to define a code block in python."
   ]
  },
  {
   "cell_type": "code",
   "execution_count": 5,
   "id": "030b1a43-84d0-4a0f-b66e-a5ebef727263",
   "metadata": {},
   "outputs": [
    {
     "name": "stdout",
     "output_type": "stream",
     "text": [
      "0\n",
      "1\n"
     ]
    }
   ],
   "source": [
    "# below 2 lines of code is a code block for if statement.\n",
    "for i in range(2):\n",
    "    print(i)\n",
    "    "
   ]
  },
  {
   "cell_type": "markdown",
   "id": "32b2c2aa-8d97-4ba1-b96b-78856ff22926",
   "metadata": {},
   "source": [
    "##### 7. State a character used to give single-line comments in Python?\n",
    "###### Ans: # (hash symbol)."
   ]
  },
  {
   "cell_type": "markdown",
   "id": "05540ecd-15c8-402b-a397-0ef12fc4b2f5",
   "metadata": {
    "tags": []
   },
   "source": [
    "##### 8. Menton functions which can help us to find the version of python that we are currently working on?\n",
    "###### Ans: Using CMD : python --version"
   ]
  },
  {
   "cell_type": "code",
   "execution_count": 10,
   "id": "b353e517-f6da-43d3-bd8e-c0ca09f6ac41",
   "metadata": {},
   "outputs": [
    {
     "name": "stdout",
     "output_type": "stream",
     "text": [
      "3.10.8 | packaged by conda-forge | (main, Nov 22 2022, 08:26:04) [GCC 10.4.0]\n"
     ]
    }
   ],
   "source": [
    "#using script\n",
    "import sys\n",
    "print(sys.version)"
   ]
  },
  {
   "cell_type": "markdown",
   "id": "33fb79ad-e5b9-4ff3-a681-f0b4296bbb64",
   "metadata": {},
   "source": [
    "##### 9. Python supports the creation of anonyous function at runtime, using a construct called__________\n",
    "###### Ans: lambda."
   ]
  },
  {
   "cell_type": "markdown",
   "id": "61f3b6d5-0b22-48d4-ad2a-69b7f6f084aa",
   "metadata": {},
   "source": [
    "##### 10. What doest pip stand for in Python?\n",
    "###### Ans: PIP is a package manager for Python package . It is used to manage(Install, Uninstall, Update, etc) additional packages that are not part of the Python standard library "
   ]
  },
  {
   "cell_type": "markdown",
   "id": "5e7c5f16-e357-49d5-8771-57c9b26064d4",
   "metadata": {},
   "source": [
    "##### 11. Mention a few built in functions in Pythons?\n",
    "###### Ans: len(), input(), range(), str(), int(), max(), min()"
   ]
  },
  {
   "cell_type": "markdown",
   "id": "39a5e705-3be5-4176-97a6-0debda0e8070",
   "metadata": {},
   "source": [
    "##### 12. What is the maximum possible length of an identifier in Python?\n",
    "###### Ans: 79 characters"
   ]
  },
  {
   "cell_type": "markdown",
   "id": "5706c045-d2f7-4921-a2ab-c368faf0dbad",
   "metadata": {},
   "source": [
    "##### 13. What are the benefits of using Python?\n",
    "###### Ans: The advantages of python are:\n",
    "###### * Easy to Read, Learn and Write\n",
    "###### * Interpreted Language\n",
    "###### * Free and Open source\n",
    "###### * Dynamically typed\n",
    "###### * Vast Library support"
   ]
  },
  {
   "cell_type": "markdown",
   "id": "4ff6a3b8-74ad-4ff9-bea4-cb9680456583",
   "metadata": {},
   "source": [
    "##### 14. How is memory managed in Python?\n",
    "###### Ans: Memory in Python is managed by Python private heap space. All Python objects and data structures are located in a private heap. This private heap is taken care of by Python Interpreter itself, and a programmer doesn't have access to this private heap\n"
   ]
  },
  {
   "cell_type": "markdown",
   "id": "dcb812e3-a750-4834-94bd-0acffbbd229c",
   "metadata": {},
   "source": [
    "##### 14. How to install python on windows and set path variables?\n",
    "###### Ans: Python can be downloaded from python.org and installed.\n",
    "##### The complete path of python.exe can be added by:\n",
    "\n",
    "##### * Right-clicking This PC and going to Properties.\n",
    "\n",
    "##### * Clicking on the Advanced system settings in the menu on the left.\n",
    "\n",
    "##### * Clicking on the Environment Variables button o​n the bottom right.\n",
    "\n",
    "##### * In the System variables section, selecting the Path variable and clicking on Edit. The next screen will show all the directories that are currently a part of the PATH variable.\n",
    "\n",
    "##### * Clicking on New and entering Python’s install directory.\n"
   ]
  },
  {
   "cell_type": "code",
   "execution_count": null,
   "id": "b28ac6f6-176a-4650-a870-79088648f1f2",
   "metadata": {},
   "outputs": [],
   "source": []
  }
 ],
 "metadata": {
  "kernelspec": {
   "display_name": "Python 3 (ipykernel)",
   "language": "python",
   "name": "python3"
  },
  "language_info": {
   "codemirror_mode": {
    "name": "ipython",
    "version": 3
   },
   "file_extension": ".py",
   "mimetype": "text/x-python",
   "name": "python",
   "nbconvert_exporter": "python",
   "pygments_lexer": "ipython3",
   "version": "3.10.8"
  }
 },
 "nbformat": 4,
 "nbformat_minor": 5
}
