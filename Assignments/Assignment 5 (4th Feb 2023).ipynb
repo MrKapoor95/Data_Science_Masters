{
 "cells": [
  {
   "cell_type": "markdown",
   "id": "07a97a2c-6451-43fc-bcaf-b56643a32696",
   "metadata": {},
   "source": [
    "## DS Masters : Assignment 4 (3rd Feb 2023)\n",
    "\n",
    "#### Name : Lucky Kumar\n",
    "#### Email : erluckykapoor@gmail.com\n",
    ".\n",
    "."
   ]
  },
  {
   "cell_type": "markdown",
   "id": "52cc14e4-5106-425b-b115-04831ced7d0b",
   "metadata": {},
   "source": [
    "### Q1. Create a python program to sort the given list of tuples based on integer value using a lambda function.\n",
    "[('Sachin Tendulkar', 34357), ('Ricky Ponting', 27483), ('Jack Kallis', 25534), ('Virat Kohli', 24936)]"
   ]
  },
  {
   "cell_type": "code",
   "execution_count": 21,
   "id": "beec0439-3a25-4e09-8a53-ce843fc2123b",
   "metadata": {},
   "outputs": [
    {
     "name": "stdout",
     "output_type": "stream",
     "text": [
      "Previous list \n",
      "  [('Sachin Tendulkar', 34357), ('Ricky Ponting', 27483), ('Jack Kallis', 25534), ('Virat Kohli', 24936)]\n",
      "Sorted list \n",
      " [('Virat Kohli', 24936), ('Jack Kallis', 25534), ('Ricky Ponting', 27483), ('Sachin Tendulkar', 34357)]\n"
     ]
    }
   ],
   "source": [
    "lst = [('Sachin Tendulkar', 34357), ('Ricky Ponting', 27483), ('Jack Kallis', 25534), ('Virat Kohli', 24936)]\n",
    "print(f\"Previous list \\n  {lst}\")\n",
    "key = lambda x : x[1]\n",
    "lst.sort(key = lambda x : x[1])\n",
    "print(f\"Sorted list \\n {lst}\")"
   ]
  },
  {
   "cell_type": "markdown",
   "id": "ef9bfde4-83f9-4adf-8a91-86ce2eaf65c0",
   "metadata": {},
   "source": [
    "### Q2. Write a Python Program to find the squares of all the numbers in the given list of integers using lambda and map functions.\n",
    "[1, 2, 3, 4, 5, 6, 7, 8, 9, 10]"
   ]
  },
  {
   "cell_type": "code",
   "execution_count": 32,
   "id": "f64a0684-f3eb-4998-8f5a-65c379e16c4c",
   "metadata": {},
   "outputs": [
    {
     "name": "stdout",
     "output_type": "stream",
     "text": [
      "Given list \n",
      " [1, 2, 3, 4, 5, 6, 7, 8, 9, 10]\n",
      "Squared list \n",
      " [1, 4, 9, 16, 25, 36, 49, 64, 81, 100]\n"
     ]
    }
   ],
   "source": [
    "lst2 = [1, 2, 3, 4, 5, 6, 7, 8, 9, 10]\n",
    "print(f\"Given list \\n {lst2}\")\n",
    "squared_list = list(map(lambda x : x**2, lst2))\n",
    "print(f\"Squared list \\n {squared_list}\")"
   ]
  },
  {
   "cell_type": "markdown",
   "id": "050dc767-8a83-4264-b02f-307fff636bc1",
   "metadata": {},
   "source": [
    "### Q3. Write a python program to convert the given list of integers into a tuple of strings. Use map and lambda functions\n",
    "Given list : [1, 2, 3, 4, 5, 6, 7, 8, 9, 10]\n",
    "\n",
    "Expected output: ('1', '2', '3', '4', '5', '6', '7', '8', '9', '10')"
   ]
  },
  {
   "cell_type": "code",
   "execution_count": 40,
   "id": "7880dd92-8c8b-43d5-aceb-fa3e19f0ffc0",
   "metadata": {},
   "outputs": [
    {
     "name": "stdout",
     "output_type": "stream",
     "text": [
      "('1', '2', '3', '4', '5', '6', '7', '8', '9', '10')\n"
     ]
    }
   ],
   "source": [
    "lst3 = [1, 2, 3, 4, 5, 6, 7, 8, 9, 10]\n",
    "tpl = tuple(map(lambda x: f'{x}', lst3))\n",
    "print(tpl)"
   ]
  },
  {
   "cell_type": "markdown",
   "id": "1920e35f-4744-47df-b066-96207447b237",
   "metadata": {},
   "source": [
    "### Q4. Write a python program using reduce function to compute the product of a list containing numbers from 1 to 25."
   ]
  },
  {
   "cell_type": "code",
   "execution_count": 46,
   "id": "b9e19fa2-b8be-4683-a13e-e4505af6c2a5",
   "metadata": {},
   "outputs": [
    {
     "name": "stdout",
     "output_type": "stream",
     "text": [
      "15511210043330985984000000\n"
     ]
    }
   ],
   "source": [
    "import functools as ft\n",
    "lst4 = [1,2,3,4,5,6,7,8,9,10,11,12,13,14,15,16,17,18,19,20,21,22,23,24,25]\n",
    "product = ft.reduce(lambda x,y : x*y, lst4)\n",
    "print(product)"
   ]
  },
  {
   "cell_type": "markdown",
   "id": "0c8229e9-dd6e-4d0e-ac0f-ecbafe669cb4",
   "metadata": {},
   "source": [
    "### Q5. Write a python program to filter the numbers in a given list that are divisible by 2 and 3 using the filter function.\n",
    "[2, 3, 6, 9, 27, 60, 90, 120, 55, 46]"
   ]
  },
  {
   "cell_type": "code",
   "execution_count": 50,
   "id": "448ef324-8601-4676-9da7-33865684dbad",
   "metadata": {},
   "outputs": [
    {
     "name": "stdout",
     "output_type": "stream",
     "text": [
      "[6, 60, 90, 120]\n"
     ]
    }
   ],
   "source": [
    "lst5 = [2, 3, 6, 9, 27, 60, 90, 120, 55, 46]\n",
    "filter_lst = filter(lambda x : ((x % 2 == 0) and (x%3 == 0)), lst5)\n",
    "print(list(filter_lst))"
   ]
  },
  {
   "cell_type": "markdown",
   "id": "84fe3bd9-40dd-4aba-a8c7-e722b8ceb22e",
   "metadata": {},
   "source": [
    "### QQ6. Write a python program to find palindromes in the given list of strings using lambda and filter function.\n",
    "['python', 'php', 'aba', 'radar', 'level']"
   ]
  },
  {
   "cell_type": "code",
   "execution_count": 33,
   "id": "b602eecb-0294-4db3-b2f6-9585a735cd0a",
   "metadata": {},
   "outputs": [
    {
     "data": {
      "text/plain": [
       "['php', 'aba', 'radar', 'level']"
      ]
     },
     "execution_count": 33,
     "metadata": {},
     "output_type": "execute_result"
    }
   ],
   "source": [
    "# Using lambda and Filter function\n",
    "lst6 = ['python', 'php', 'aba', 'radar', 'level']\n",
    "\n",
    "list(filter(lambda x : x == x[::-1], lst6))"
   ]
  },
  {
   "cell_type": "code",
   "execution_count": 34,
   "id": "f767b268-9bf0-4d8f-a756-f51354beb29a",
   "metadata": {},
   "outputs": [
    {
     "name": "stdout",
     "output_type": "stream",
     "text": [
      "['php', 'aba', 'radar', 'level']\n"
     ]
    }
   ],
   "source": [
    "# Old school\n",
    "lst6 = ['python', 'php', 'aba', 'radar', 'level']\n",
    "\n",
    "lst_check = []\n",
    "for i in lst6:\n",
    "    for j in i:\n",
    "        pali = \"\"+i[::-1]\n",
    "        lst_check.append(pali)\n",
    "        \n",
    "palidrom_list = []\n",
    "for i in range(len(lst6)):\n",
    "    if lst6[i] == list_check[i]:\n",
    "        palidrom_list.append(lst6[i])\n",
    "print(palidrom_list)"
   ]
  },
  {
   "cell_type": "code",
   "execution_count": null,
   "id": "0bc90da4-63a9-4514-984f-28865813521e",
   "metadata": {},
   "outputs": [],
   "source": []
  }
 ],
 "metadata": {
  "kernelspec": {
   "display_name": "Python 3 (ipykernel)",
   "language": "python",
   "name": "python3"
  },
  "language_info": {
   "codemirror_mode": {
    "name": "ipython",
    "version": 3
   },
   "file_extension": ".py",
   "mimetype": "text/x-python",
   "name": "python",
   "nbconvert_exporter": "python",
   "pygments_lexer": "ipython3",
   "version": "3.10.8"
  }
 },
 "nbformat": 4,
 "nbformat_minor": 5
}
