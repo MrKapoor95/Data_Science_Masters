{
 "cells": [
  {
   "cell_type": "markdown",
   "id": "1acac75b-4149-4f04-bd16-fb533cb20cde",
   "metadata": {},
   "source": [
    "## DS Masters : Assignment 4 (3rd Feb 2023)\n",
    "\n",
    "#### Name : Lucky Kumar\n",
    "#### Email : erluckykapoor@gmail.com\n",
    ".\n",
    "."
   ]
  },
  {
   "cell_type": "markdown",
   "id": "db83cdfd-c22d-4ec9-917b-9af49acc7fb2",
   "metadata": {},
   "source": [
    "### 1. Which keyword is used to create a function? Create a function to return a list of odd numbers in the range of 1 to 25."
   ]
  },
  {
   "cell_type": "markdown",
   "id": "06fab100-d8a1-4338-89a3-72fa5d443196",
   "metadata": {},
   "source": [
    "Ans:  ***def*** keyword is used to create a function."
   ]
  },
  {
   "cell_type": "code",
   "execution_count": 2,
   "id": "7f8ddeb3-0dd0-478e-a617-99b0fe58bbe4",
   "metadata": {},
   "outputs": [
    {
     "data": {
      "text/plain": [
       "[1, 3, 5, 7, 9, 11, 13, 15, 17, 19, 21, 23, 25]"
      ]
     },
     "execution_count": 2,
     "metadata": {},
     "output_type": "execute_result"
    }
   ],
   "source": [
    "# function to return a list of odd numbers \n",
    "# in the range of 1 to 25.\n",
    "def odd_num (a,b):\n",
    "    odd_list = []\n",
    "    for i in range(a,b+1):\n",
    "        if i%2 != 0 and i != 0 :\n",
    "            odd_list.append(i)\n",
    "    return odd_list\n",
    "\n",
    "odd_num(1,25)"
   ]
  },
  {
   "cell_type": "markdown",
   "id": "48407672-2701-4e06-bfc1-2af2440fd529",
   "metadata": {},
   "source": [
    "### 2. Why *args and **kwargs is used in some functions? Create a function each for *args and **kwargs to demonstrate their use.."
   ]
  },
  {
   "cell_type": "markdown",
   "id": "4b217672-7406-4c20-928c-2afa35e59e24",
   "metadata": {},
   "source": [
    "Ans: We can use ***args** and ****kwargs** as arguments of a function when you are unsure about the number of arguments to pass in the functions."
   ]
  },
  {
   "cell_type": "markdown",
   "id": "6e23f23b-1167-48d7-8993-bb60d1bc7beb",
   "metadata": {},
   "source": [
    "***args** specifies the *number of non-keyworded* arguments that can be passed and the operations that can be performed on the function in Python whereas,\n",
    "\n",
    "****kwargs** is a *variable number of keyworded arguments* that can be passed to a function that can perform dictionary operations."
   ]
  },
  {
   "cell_type": "code",
   "execution_count": 5,
   "id": "5035cf05-2659-441e-acb3-9fa12606da29",
   "metadata": {},
   "outputs": [
    {
     "name": "stdout",
     "output_type": "stream",
     "text": [
      "6\n",
      "17\n",
      "24\n"
     ]
    }
   ],
   "source": [
    "# write add() function with a variable number of arguments for thier addition.\n",
    "def add(*args):\n",
    "    total = 0\n",
    "    for num in args:\n",
    "        total += num\n",
    "    return total\n",
    "# Recalling function with variable input\n",
    "print(add(2,4))\n",
    "print(add(2,4,5,6))\n",
    "print(add(2,4,-1,4,7,8))"
   ]
  },
  {
   "cell_type": "code",
   "execution_count": 15,
   "id": "e9e9671f-0989-47f5-a967-fdef32416965",
   "metadata": {},
   "outputs": [
    {
     "name": "stdout",
     "output_type": "stream",
     "text": [
      "14\n",
      "24\n"
     ]
    }
   ],
   "source": [
    "# total_fruits() function to return the total number of fruit.\n",
    "\n",
    "def total_fruits(**fruits):\n",
    "    total = 0\n",
    "    for num_of_fruit in fruits.values():\n",
    "        total += num_of_fruit\n",
    "    return total\n",
    "\n",
    "# Recalling function for keyworded arguments\n",
    "print(total_fruits(banana = 5, mango = 3, apple = 6))\n",
    "print(total_fruits(banana = 5, mango = 3, apple = 6, oranges = 10))"
   ]
  },
  {
   "cell_type": "markdown",
   "id": "8b389d6f-910c-4c17-9944-2bed74f0e5de",
   "metadata": {},
   "source": [
    "### 3. What is an iterator in python? Name the method used to initialise the iterator object and the method used for iteration. Use these methods to print the first five elements of the given list [2, 4, 6, 8, 10, 12, 14, 16,18, 20]."
   ]
  },
  {
   "cell_type": "markdown",
   "id": "534733ad-fa50-448c-8c99-d5fb365c911f",
   "metadata": {},
   "source": [
    "Ans: Iterator in Python is an object that is used to iterate over iterable objects like lists, tuples, dicts, and sets. The iterator object is initialized using the iter() method.\n",
    "it uses the next() method for iteration. \n",
    "Iterator object like range() and generator() can iterated using for in loop."
   ]
  },
  {
   "cell_type": "code",
   "execution_count": 23,
   "id": "451f7ad7-f3da-431f-b085-e6bb39641a03",
   "metadata": {},
   "outputs": [
    {
     "name": "stdout",
     "output_type": "stream",
     "text": [
      "[2, 4, 6, 8, 10, 12, 14, 16, 18, 20]\n",
      "\n",
      "Using Iter() and next() function\n",
      "2\n",
      "4\n",
      "6\n",
      "8\n",
      "10\n",
      "\n",
      "Using for in loop\n",
      "2\n",
      "4\n",
      "6\n",
      "8\n",
      "10\n"
     ]
    }
   ],
   "source": [
    "lst = [2, 4, 6, 8, 10, 12, 14, 16,18, 20]\n",
    "print(lst)\n",
    "# Iterating over the generator object using next\n",
    "print(\"\\nUsing Iter() and next() function\")\n",
    "iter_lst=iter(lst)\n",
    "print(next(iter_lst)) # In Python 3, __next__()\n",
    "print(next(iter_lst))\n",
    "print(next(iter_lst))\n",
    "print(next(iter_lst))\n",
    "print(next(iter_lst))\n",
    " \n",
    "# Iterating over the iterator object using for in loop.\n",
    "print(\"\\nUsing for in loop\")\n",
    "for i in range(5):\n",
    "    print(lst[i])"
   ]
  },
  {
   "cell_type": "markdown",
   "id": "8209b9cd-89e8-4493-af39-e12334b582b0",
   "metadata": {},
   "source": [
    "### 4. What is a generator function in python? Why yield keyword is used? Give an example of a generator function."
   ]
  },
  {
   "cell_type": "markdown",
   "id": "a5f42ac0-8741-45c2-b573-e7a42828dfda",
   "metadata": {},
   "source": [
    "Ans : A generator is a function that returns an iterator that produces a sequence of values when iterated over.\n",
    "A generator-function is defined like a normal function, but whenever it needs to generate a value, it does so with the yield keyword rather than return. If the body of a def contains yield, the function automatically becomes a generator function. "
   ]
  },
  {
   "cell_type": "code",
   "execution_count": 21,
   "id": "97bdaf7b-e991-40ba-8f9e-0dc1769f7536",
   "metadata": {},
   "outputs": [
    {
     "name": "stdout",
     "output_type": "stream",
     "text": [
      "1\n",
      "2\n",
      "3\n"
     ]
    }
   ],
   "source": [
    "# simple generator to generate 1 ,2 and 3 for first second and third time.\n",
    "def generator():\n",
    "    yield 1\n",
    "    yield 2\n",
    "    yield 3\n",
    "    \n",
    "#Calling function\n",
    "for value in generator(): \n",
    "    print(value)"
   ]
  },
  {
   "cell_type": "code",
   "execution_count": 27,
   "id": "c8cc6110-2c03-4492-8087-1e32d09113bf",
   "metadata": {},
   "outputs": [
    {
     "name": "stdout",
     "output_type": "stream",
     "text": [
      "2\n",
      "4\n",
      "6\n",
      "8\n"
     ]
    }
   ],
   "source": [
    "# even number series iterable\n",
    "def even_iter(limit):\n",
    "    a = 2\n",
    "    while a < limit:\n",
    "        yield a\n",
    "        a = a + 2\n",
    "\n",
    "#calling generator fuction\n",
    "for value in even_iter(10):\n",
    "    print(value)"
   ]
  },
  {
   "cell_type": "markdown",
   "id": "564315e6-b369-4eae-b1ae-7c99117f79fc",
   "metadata": {},
   "source": [
    "### 4. Q5. Create a generator function for prime numbers less than 1000. Use the next() method to print the first 20 prime numbers."
   ]
  },
  {
   "cell_type": "code",
   "execution_count": 38,
   "id": "fc600c81-241c-4614-8e64-d64f982b5972",
   "metadata": {},
   "outputs": [
    {
     "name": "stdout",
     "output_type": "stream",
     "text": [
      "2\n",
      "3\n",
      "5\n",
      "7\n",
      "11\n",
      "13\n",
      "17\n",
      "19\n",
      "23\n",
      "29\n",
      "31\n",
      "37\n",
      "41\n",
      "43\n",
      "47\n",
      "53\n",
      "59\n",
      "61\n",
      "67\n",
      "71\n"
     ]
    }
   ],
   "source": [
    "# Generator function for prime numbers less than 1000.\n",
    "\n",
    "# first create prime number checker\n",
    "def is_prime(num):\n",
    "    \n",
    "    if num == 0 or num == 1 or num < 0:\n",
    "        return False\n",
    "    elif num >= 2:\n",
    "        count = 0\n",
    "        for i in range(1,num+1):\n",
    "            if num % i == 0:\n",
    "                count += 1\n",
    "        if count == 2:\n",
    "            return True\n",
    "        else:\n",
    "            return False\n",
    "# creating a generator function for prime numbers less than 1000\n",
    "def prime_generator():\n",
    "    num = 2\n",
    "    while  num <= 1000:\n",
    "        if is_prime(num) == True:\n",
    "            yield num\n",
    "        num += 1\n",
    "        \n",
    "x = prime_generator()\n",
    "for i in range(20):\n",
    "    print(next(x))"
   ]
  }
 ],
 "metadata": {
  "kernelspec": {
   "display_name": "Python 3 (ipykernel)",
   "language": "python",
   "name": "python3"
  },
  "language_info": {
   "codemirror_mode": {
    "name": "ipython",
    "version": 3
   },
   "file_extension": ".py",
   "mimetype": "text/x-python",
   "name": "python",
   "nbconvert_exporter": "python",
   "pygments_lexer": "ipython3",
   "version": "3.10.8"
  }
 },
 "nbformat": 4,
 "nbformat_minor": 5
}
