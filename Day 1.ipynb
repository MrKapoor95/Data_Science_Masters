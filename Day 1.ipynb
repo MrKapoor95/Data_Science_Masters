{
 "cells": [
  {
   "cell_type": "markdown",
   "id": "0d804c48-9f31-42f2-8690-e6a96a6e61e0",
   "metadata": {},
   "source": [
    "# This is Intro Lecture."
   ]
  },
  {
   "cell_type": "markdown",
   "id": "81fe1498-6547-4076-9eb1-e82f352d7584",
   "metadata": {},
   "source": [
    "## 1. Numbers"
   ]
  },
  {
   "cell_type": "code",
   "execution_count": 4,
   "id": "29c971c8-fcea-4c4f-a867-376b2d954919",
   "metadata": {},
   "outputs": [
    {
     "data": {
      "text/plain": [
       "4"
      ]
     },
     "execution_count": 4,
     "metadata": {},
     "output_type": "execute_result"
    }
   ],
   "source": [
    "1 + 3"
   ]
  },
  {
   "cell_type": "markdown",
   "id": "25897080-0f8a-4dd9-9515-86399b6c50c6",
   "metadata": {},
   "source": [
    "This is the output of cell but not shown to user as desktop output"
   ]
  },
  {
   "cell_type": "code",
   "execution_count": 5,
   "id": "3d4a253d-295f-4c32-bb79-f087c4b380d1",
   "metadata": {},
   "outputs": [
    {
     "name": "stdout",
     "output_type": "stream",
     "text": [
      "4\n"
     ]
    }
   ],
   "source": [
    "print(1+3)"
   ]
  },
  {
   "cell_type": "markdown",
   "id": "5f222bdc-2331-4607-9d4c-63c57c3c8cca",
   "metadata": {},
   "source": [
    "print command gives an output which is visible to end user(in deskop)"
   ]
  },
  {
   "cell_type": "markdown",
   "id": "57c1ee74-3b4f-4b92-94a6-99657814b6e4",
   "metadata": {},
   "source": [
    "Use shift + tab to get help for particular function"
   ]
  },
  {
   "cell_type": "markdown",
   "id": "0ab88429-8c4f-4ea1-90c0-1d2d1ae1476c",
   "metadata": {},
   "source": [
    "## 2. Variable Assignment"
   ]
  },
  {
   "cell_type": "code",
   "execution_count": 7,
   "id": "23bac517-5d24-4fbc-8134-6cf671bb98c7",
   "metadata": {},
   "outputs": [
    {
     "name": "stdout",
     "output_type": "stream",
     "text": [
      "Lucky\n",
      "28\n"
     ]
    }
   ],
   "source": [
    "name = \"Lucky\"\n",
    "age = 28\n",
    "print(name)\n",
    "print(age)"
   ]
  },
  {
   "cell_type": "markdown",
   "id": "06679b31-7a5f-4156-9c6a-7bd529e3a0db",
   "metadata": {},
   "source": [
    "#### Basic Object type"
   ]
  },
  {
   "cell_type": "markdown",
   "id": "6009d90e-e354-4202-9d9e-c98168e3339a",
   "metadata": {},
   "source": [
    "We have string, number(integer and decimal(float)) and complex. We can check object type using inbuilt function type()."
   ]
  },
  {
   "cell_type": "code",
   "execution_count": 8,
   "id": "cf454c38-9c89-44b3-a3a0-bafa3910566f",
   "metadata": {},
   "outputs": [
    {
     "data": {
      "text/plain": [
       "str"
      ]
     },
     "execution_count": 8,
     "metadata": {},
     "output_type": "execute_result"
    }
   ],
   "source": [
    "type(name)"
   ]
  },
  {
   "cell_type": "code",
   "execution_count": 9,
   "id": "2fe7a021-b260-4ac2-af81-d3a86a76bd4d",
   "metadata": {},
   "outputs": [
    {
     "data": {
      "text/plain": [
       "int"
      ]
     },
     "execution_count": 9,
     "metadata": {},
     "output_type": "execute_result"
    }
   ],
   "source": [
    "type(age)"
   ]
  },
  {
   "cell_type": "code",
   "execution_count": 11,
   "id": "e813891e-ff18-4dd2-9fb8-7a57ba0b815d",
   "metadata": {},
   "outputs": [
    {
     "data": {
      "text/plain": [
       "float"
      ]
     },
     "execution_count": 11,
     "metadata": {},
     "output_type": "execute_result"
    }
   ],
   "source": [
    "type(4.6)"
   ]
  },
  {
   "cell_type": "code",
   "execution_count": 12,
   "id": "9486ba2b-dee7-47a9-a639-7eece7c7d0ee",
   "metadata": {},
   "outputs": [
    {
     "data": {
      "text/plain": [
       "complex"
      ]
     },
     "execution_count": 12,
     "metadata": {},
     "output_type": "execute_result"
    }
   ],
   "source": [
    "type(1+2j)"
   ]
  },
  {
   "cell_type": "markdown",
   "id": "9d492953-23a1-4c07-86f6-c7028b35e3ae",
   "metadata": {},
   "source": [
    "#### Change data type"
   ]
  },
  {
   "cell_type": "code",
   "execution_count": 32,
   "id": "60743e62-6819-4908-a263-7cb554fcd164",
   "metadata": {},
   "outputs": [],
   "source": [
    "a = \"20\""
   ]
  },
  {
   "cell_type": "code",
   "execution_count": 33,
   "id": "564ade4e-9ce0-492c-9cfd-9547d5a24d4b",
   "metadata": {},
   "outputs": [
    {
     "data": {
      "text/plain": [
       "str"
      ]
     },
     "execution_count": 33,
     "metadata": {},
     "output_type": "execute_result"
    }
   ],
   "source": [
    "type(a)"
   ]
  },
  {
   "cell_type": "code",
   "execution_count": 34,
   "id": "fd260282-db7a-4397-b3d1-72f175959e3b",
   "metadata": {},
   "outputs": [],
   "source": [
    "a = int(a)"
   ]
  },
  {
   "cell_type": "code",
   "execution_count": 35,
   "id": "eaba00b4-3946-4ae8-b027-d55200776f58",
   "metadata": {},
   "outputs": [
    {
     "data": {
      "text/plain": [
       "int"
      ]
     },
     "execution_count": 35,
     "metadata": {},
     "output_type": "execute_result"
    }
   ],
   "source": [
    "type(a)"
   ]
  },
  {
   "cell_type": "code",
   "execution_count": 38,
   "id": "e48eded2-fdb5-488d-b328-0a7e76429d69",
   "metadata": {},
   "outputs": [
    {
     "data": {
      "text/plain": [
       "'20'"
      ]
     },
     "execution_count": 38,
     "metadata": {},
     "output_type": "execute_result"
    }
   ],
   "source": [
    "str(a)"
   ]
  },
  {
   "cell_type": "code",
   "execution_count": 39,
   "id": "acf5ed27-8f4a-4ef4-8b3a-dee8c57449f8",
   "metadata": {},
   "outputs": [
    {
     "data": {
      "text/plain": [
       "str"
      ]
     },
     "execution_count": 39,
     "metadata": {},
     "output_type": "execute_result"
    }
   ],
   "source": [
    "type(a)"
   ]
  },
  {
   "cell_type": "markdown",
   "id": "338b994d-3305-40a9-933c-52eeea942b59",
   "metadata": {},
   "source": [
    "#### Boolean"
   ]
  },
  {
   "cell_type": "code",
   "execution_count": 31,
   "id": "23aa29d4-cdeb-4a4c-a2df-0ec36f33775b",
   "metadata": {},
   "outputs": [],
   "source": [
    "b = True"
   ]
  },
  {
   "cell_type": "code",
   "execution_count": 18,
   "id": "b91ce550-a5d2-49eb-96cc-920150723b48",
   "metadata": {},
   "outputs": [
    {
     "data": {
      "text/plain": [
       "bool"
      ]
     },
     "execution_count": 18,
     "metadata": {},
     "output_type": "execute_result"
    }
   ],
   "source": [
    "type(a)"
   ]
  },
  {
   "cell_type": "code",
   "execution_count": 19,
   "id": "32f0ec44-acba-4027-a7e3-77a3b71e6ca2",
   "metadata": {},
   "outputs": [
    {
     "data": {
      "text/plain": [
       "True"
      ]
     },
     "execution_count": 19,
     "metadata": {},
     "output_type": "execute_result"
    }
   ],
   "source": [
    "True and True"
   ]
  },
  {
   "cell_type": "code",
   "execution_count": 20,
   "id": "53440516-f7ca-47dc-9424-14ae9ab9f036",
   "metadata": {},
   "outputs": [
    {
     "data": {
      "text/plain": [
       "False"
      ]
     },
     "execution_count": 20,
     "metadata": {},
     "output_type": "execute_result"
    }
   ],
   "source": [
    "True and False"
   ]
  },
  {
   "cell_type": "code",
   "execution_count": 21,
   "id": "01a637c6-fce6-44c0-b796-6789b4ef7ae0",
   "metadata": {},
   "outputs": [
    {
     "data": {
      "text/plain": [
       "False"
      ]
     },
     "execution_count": 21,
     "metadata": {},
     "output_type": "execute_result"
    }
   ],
   "source": [
    "False and False"
   ]
  },
  {
   "cell_type": "code",
   "execution_count": 22,
   "id": "6d692400-7d22-4738-b943-d7965380080c",
   "metadata": {},
   "outputs": [
    {
     "data": {
      "text/plain": [
       "True"
      ]
     },
     "execution_count": 22,
     "metadata": {},
     "output_type": "execute_result"
    }
   ],
   "source": [
    "True or False"
   ]
  },
  {
   "cell_type": "code",
   "execution_count": 23,
   "id": "8740f25c-2f68-496f-811e-9701b06d56f6",
   "metadata": {},
   "outputs": [
    {
     "data": {
      "text/plain": [
       "True"
      ]
     },
     "execution_count": 23,
     "metadata": {},
     "output_type": "execute_result"
    }
   ],
   "source": [
    "False or True"
   ]
  },
  {
   "cell_type": "markdown",
   "id": "7d96deb2-c599-4045-ba54-103a073c1fb6",
   "metadata": {},
   "source": [
    "### 3. Dynamic Typic"
   ]
  },
  {
   "cell_type": "code",
   "execution_count": 41,
   "id": "eca8dabe-038d-40c3-b25f-68f33900a67b",
   "metadata": {},
   "outputs": [],
   "source": [
    "a = 12"
   ]
  },
  {
   "cell_type": "markdown",
   "id": "a28f6fee-00d5-480c-8d01-ba1dad498ac7",
   "metadata": {},
   "source": [
    "Compiler understand a = 12 which is an integer . other programming languages we have to specify 'int a = 12'.\n",
    "This is why python have dynamic typing feature."
   ]
  },
  {
   "cell_type": "markdown",
   "id": "c0db9bf0-f445-4812-ae03-ea5e949e8246",
   "metadata": {},
   "source": [
    "#### Concatenation between data types\n"
   ]
  },
  {
   "cell_type": "code",
   "execution_count": 42,
   "id": "a60f0003-e4d4-4040-8774-35724035ca09",
   "metadata": {},
   "outputs": [
    {
     "data": {
      "text/plain": [
       "2"
      ]
     },
     "execution_count": 42,
     "metadata": {},
     "output_type": "execute_result"
    }
   ],
   "source": [
    "1 + 1"
   ]
  },
  {
   "cell_type": "code",
   "execution_count": 43,
   "id": "3f5000c4-d26f-49f3-a404-a53b56fb648b",
   "metadata": {},
   "outputs": [
    {
     "data": {
      "text/plain": [
       "'11'"
      ]
     },
     "execution_count": 43,
     "metadata": {},
     "output_type": "execute_result"
    }
   ],
   "source": [
    "\"1\" + \"1\""
   ]
  },
  {
   "cell_type": "code",
   "execution_count": 44,
   "id": "51d4122a-f375-4be7-b9c8-bbb473f128cb",
   "metadata": {},
   "outputs": [
    {
     "ename": "TypeError",
     "evalue": "unsupported operand type(s) for +: 'int' and 'str'",
     "output_type": "error",
     "traceback": [
      "\u001b[0;31m---------------------------------------------------------------------------\u001b[0m",
      "\u001b[0;31mTypeError\u001b[0m                                 Traceback (most recent call last)",
      "Cell \u001b[0;32mIn[44], line 1\u001b[0m\n\u001b[0;32m----> 1\u001b[0m \u001b[38;5;241;43m1\u001b[39;49m\u001b[43m \u001b[49m\u001b[38;5;241;43m+\u001b[39;49m\u001b[43m \u001b[49m\u001b[38;5;124;43m\"\u001b[39;49m\u001b[38;5;124;43m1\u001b[39;49m\u001b[38;5;124;43m\"\u001b[39;49m\n",
      "\u001b[0;31mTypeError\u001b[0m: unsupported operand type(s) for +: 'int' and 'str'"
     ]
    }
   ],
   "source": [
    "1 + \"1\""
   ]
  },
  {
   "cell_type": "code",
   "execution_count": 45,
   "id": "8bc51450-2348-4ced-a06d-ace9b4e607ae",
   "metadata": {},
   "outputs": [
    {
     "ename": "TypeError",
     "evalue": "can't multiply sequence by non-int of type 'str'",
     "output_type": "error",
     "traceback": [
      "\u001b[0;31m---------------------------------------------------------------------------\u001b[0m",
      "\u001b[0;31mTypeError\u001b[0m                                 Traceback (most recent call last)",
      "Cell \u001b[0;32mIn[45], line 1\u001b[0m\n\u001b[0;32m----> 1\u001b[0m \u001b[38;5;124;43m\"\u001b[39;49m\u001b[38;5;124;43m1\u001b[39;49m\u001b[38;5;124;43m\"\u001b[39;49m\u001b[43m \u001b[49m\u001b[38;5;241;43m*\u001b[39;49m\u001b[43m \u001b[49m\u001b[38;5;124;43m\"\u001b[39;49m\u001b[38;5;124;43m1\u001b[39;49m\u001b[38;5;124;43m\"\u001b[39;49m\n",
      "\u001b[0;31mTypeError\u001b[0m: can't multiply sequence by non-int of type 'str'"
     ]
    }
   ],
   "source": [
    "\"1\" * \"1\""
   ]
  },
  {
   "cell_type": "code",
   "execution_count": 46,
   "id": "7d628bd8-0b70-46c1-83c6-3326a56942c0",
   "metadata": {},
   "outputs": [
    {
     "data": {
      "text/plain": [
       "'1111111111'"
      ]
     },
     "execution_count": 46,
     "metadata": {},
     "output_type": "execute_result"
    }
   ],
   "source": [
    "\"1\" * 10"
   ]
  },
  {
   "cell_type": "code",
   "execution_count": null,
   "id": "30d2fa98-95b0-431a-8bac-9eb567f21ce2",
   "metadata": {},
   "outputs": [],
   "source": []
  }
 ],
 "metadata": {
  "kernelspec": {
   "display_name": "Python 3 (ipykernel)",
   "language": "python",
   "name": "python3"
  },
  "language_info": {
   "codemirror_mode": {
    "name": "ipython",
    "version": 3
   },
   "file_extension": ".py",
   "mimetype": "text/x-python",
   "name": "python",
   "nbconvert_exporter": "python",
   "pygments_lexer": "ipython3",
   "version": "3.10.8"
  }
 },
 "nbformat": 4,
 "nbformat_minor": 5
}
